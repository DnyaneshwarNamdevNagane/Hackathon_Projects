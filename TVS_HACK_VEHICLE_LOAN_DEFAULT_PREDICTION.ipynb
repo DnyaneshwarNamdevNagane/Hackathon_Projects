{
  "nbformat": 4,
  "nbformat_minor": 0,
  "metadata": {
    "colab": {
      "name": "TVS_HACK_VEHICLE_LOAN_DEFAULT_PREDICTION.ipynb",
      "provenance": [],
      "collapsed_sections": []
    },
    "kernelspec": {
      "name": "python3",
      "display_name": "Python 3"
    },
    "language_info": {
      "name": "python"
    }
  },
  "cells": [
    {
      "cell_type": "markdown",
      "source": [
        "### Objective:\n",
        "\n",
        "The goal of the problem is to predict whether a client will default on the vehicle loan payment or not, given the recent data of all the loan transactions. This can help the institution to distinguish the future applicants who might default. For each ID in the Test Dataset, you must predict the “Default” level"
      ],
      "metadata": {
        "id": "MqDLdmmvHbZu"
      }
    },
    {
      "cell_type": "markdown",
      "source": [
        "### Importing neccesary libraries"
      ],
      "metadata": {
        "id": "9YB49-uw7jHs"
      }
    },
    {
      "cell_type": "code",
      "source": [
        "import pandas as pd\n",
        "import numpy as np\n",
        "import matplotlib.pyplot as plt\n",
        "%matplotlib inline\n",
        "import os\n",
        "import seaborn as sns\n",
        "import copy\n",
        "\n",
        "\n",
        "from sklearn.preprocessing import LabelEncoder\n",
        "from sklearn.linear_model import LogisticRegression\n",
        "from sklearn.tree import DecisionTreeClassifier\n",
        "from sklearn.ensemble import GradientBoostingClassifier ,RandomForestClassifier ,GradientBoostingClassifier\n",
        "from xgboost import XGBClassifier \n",
        "from sklearn.model_selection import train_test_split, GridSearchCV, RandomizedSearchCV\n",
        "from sklearn.linear_model import Ridge,Lasso\n",
        "from sklearn.metrics import confusion_matrix, accuracy_score, precision_score,\\\n",
        "                            recall_score, f1_score, roc_auc_score, classification_report,\\\n",
        "                            roc_curve, auc\n",
        "\n",
        "import warnings\n",
        "warnings.filterwarnings('ignore')"
      ],
      "metadata": {
        "id": "eWonwKzi7-w3"
      },
      "execution_count": null,
      "outputs": []
    },
    {
      "cell_type": "markdown",
      "source": [
        "### Setting options"
      ],
      "metadata": {
        "id": "14Wxgn8g8NxQ"
      }
    },
    {
      "cell_type": "code",
      "source": [
        "from google.colab import drive\n",
        "drive.mount('/content/drive')"
      ],
      "metadata": {
        "colab": {
          "base_uri": "https://localhost:8080/"
        },
        "id": "P2BYP8oj9wDu",
        "outputId": "c77ffb47-f47b-4bec-81b5-36b7b7f22971"
      },
      "execution_count": null,
      "outputs": [
        {
          "output_type": "stream",
          "name": "stdout",
          "text": [
            "Drive already mounted at /content/drive; to attempt to forcibly remount, call drive.mount(\"/content/drive\", force_remount=True).\n"
          ]
        }
      ]
    },
    {
      "cell_type": "code",
      "source": [
        "os.chdir('/content/drive/My Drive/TVS_HACKATHON')\n",
        "os.getcwd()"
      ],
      "metadata": {
        "colab": {
          "base_uri": "https://localhost:8080/",
          "height": 35
        },
        "id": "_i0R6hbC8beS",
        "outputId": "9464f7a0-70f9-47e5-8aa6-92a135fca29f"
      },
      "execution_count": null,
      "outputs": [
        {
          "output_type": "execute_result",
          "data": {
            "text/plain": [
              "'/content/drive/My Drive/TVS_HACKATHON'"
            ],
            "application/vnd.google.colaboratory.intrinsic+json": {
              "type": "string"
            }
          },
          "metadata": {},
          "execution_count": 3
        }
      ]
    },
    {
      "cell_type": "markdown",
      "source": [
        "### Reading the dataset"
      ],
      "metadata": {
        "id": "y3HPel7j8sR9"
      }
    },
    {
      "cell_type": "code",
      "source": [
        "# Reading the dataset\n",
        "\n",
        "train=pd.read_csv('Train_Set_TVS.csv')\n",
        "test=pd.read_csv('Test_Set_TVS.csv')\n",
        "ref_test = copy.copy(test)"
      ],
      "metadata": {
        "id": "odNz_0dv99Lt"
      },
      "execution_count": null,
      "outputs": []
    },
    {
      "cell_type": "code",
      "source": [
        "#test_1=test.copy()"
      ],
      "metadata": {
        "id": "CRnLCfxS0p9m"
      },
      "execution_count": null,
      "outputs": []
    },
    {
      "cell_type": "code",
      "source": [
        "train.head()"
      ],
      "metadata": {
        "colab": {
          "base_uri": "https://localhost:8080/",
          "height": 300
        },
        "id": "HMEtxzT6-c70",
        "outputId": "491cc0cd-b9fc-4358-c07d-464259c20c78"
      },
      "execution_count": null,
      "outputs": [
        {
          "output_type": "execute_result",
          "data": {
            "text/plain": [
              "       ID  Compensation Vehicle_Status  Loan_amt  Annuity_amt  density_Ind  \\\n",
              "0  540071      801850.0              Y  658040.0     13816.52       0.0304   \n",
              "1  511643      884222.0              N  198075.0     11173.06       0.0194   \n",
              "2  506688      284120.0              N  101056.0      8390.40       0.0118   \n",
              "3  499360      341874.0              N  179008.0      7184.13       0.0373   \n",
              "4  438350     1259895.0              Y  573715.0     13212.77       0.0138   \n",
              "\n",
              "  Job_Type Default_hist     Prop_List  Home_Appliances  ... Region   Age  \\\n",
              "0       IT          ndf  Morethan_One              NaN  ...   East  46.0   \n",
              "1       IT          ndf  Morethan_One              1.0  ...  North  46.0   \n",
              "2    Govt.          ndf           One              4.0  ...  North  57.0   \n",
              "3   Non-IT           df          None              2.0  ...  South  39.0   \n",
              "4   Non-IT          ndf  Morethan_One              1.0  ...  North  32.0   \n",
              "\n",
              "  hour_Process Addr_permanent Permanent_Addr_tag c1_rated  c2_rated  \\\n",
              "0         10.0            Yes                 No    0.077     0.077   \n",
              "1         12.0            Yes                Yes    0.184     0.184   \n",
              "2          5.0            Yes                Yes    0.538     0.538   \n",
              "3         12.0            Yes                Yes      NaN     0.561   \n",
              "4         16.0            Yes                Yes      NaN     0.200   \n",
              "\n",
              "  Contact_age Product_bought Default  \n",
              "0        18.0            2.0     1.0  \n",
              "1       306.0            4.0     0.0  \n",
              "2       281.0            4.0     0.0  \n",
              "3        20.0            4.0     0.0  \n",
              "4      2339.0            6.0     0.0  \n",
              "\n",
              "[5 rows x 33 columns]"
            ],
            "text/html": [
              "\n",
              "  <div id=\"df-d4230dd9-9266-4239-9ad8-86468b41e210\">\n",
              "    <div class=\"colab-df-container\">\n",
              "      <div>\n",
              "<style scoped>\n",
              "    .dataframe tbody tr th:only-of-type {\n",
              "        vertical-align: middle;\n",
              "    }\n",
              "\n",
              "    .dataframe tbody tr th {\n",
              "        vertical-align: top;\n",
              "    }\n",
              "\n",
              "    .dataframe thead th {\n",
              "        text-align: right;\n",
              "    }\n",
              "</style>\n",
              "<table border=\"1\" class=\"dataframe\">\n",
              "  <thead>\n",
              "    <tr style=\"text-align: right;\">\n",
              "      <th></th>\n",
              "      <th>ID</th>\n",
              "      <th>Compensation</th>\n",
              "      <th>Vehicle_Status</th>\n",
              "      <th>Loan_amt</th>\n",
              "      <th>Annuity_amt</th>\n",
              "      <th>density_Ind</th>\n",
              "      <th>Job_Type</th>\n",
              "      <th>Default_hist</th>\n",
              "      <th>Prop_List</th>\n",
              "      <th>Home_Appliances</th>\n",
              "      <th>...</th>\n",
              "      <th>Region</th>\n",
              "      <th>Age</th>\n",
              "      <th>hour_Process</th>\n",
              "      <th>Addr_permanent</th>\n",
              "      <th>Permanent_Addr_tag</th>\n",
              "      <th>c1_rated</th>\n",
              "      <th>c2_rated</th>\n",
              "      <th>Contact_age</th>\n",
              "      <th>Product_bought</th>\n",
              "      <th>Default</th>\n",
              "    </tr>\n",
              "  </thead>\n",
              "  <tbody>\n",
              "    <tr>\n",
              "      <th>0</th>\n",
              "      <td>540071</td>\n",
              "      <td>801850.0</td>\n",
              "      <td>Y</td>\n",
              "      <td>658040.0</td>\n",
              "      <td>13816.52</td>\n",
              "      <td>0.0304</td>\n",
              "      <td>IT</td>\n",
              "      <td>ndf</td>\n",
              "      <td>Morethan_One</td>\n",
              "      <td>NaN</td>\n",
              "      <td>...</td>\n",
              "      <td>East</td>\n",
              "      <td>46.0</td>\n",
              "      <td>10.0</td>\n",
              "      <td>Yes</td>\n",
              "      <td>No</td>\n",
              "      <td>0.077</td>\n",
              "      <td>0.077</td>\n",
              "      <td>18.0</td>\n",
              "      <td>2.0</td>\n",
              "      <td>1.0</td>\n",
              "    </tr>\n",
              "    <tr>\n",
              "      <th>1</th>\n",
              "      <td>511643</td>\n",
              "      <td>884222.0</td>\n",
              "      <td>N</td>\n",
              "      <td>198075.0</td>\n",
              "      <td>11173.06</td>\n",
              "      <td>0.0194</td>\n",
              "      <td>IT</td>\n",
              "      <td>ndf</td>\n",
              "      <td>Morethan_One</td>\n",
              "      <td>1.0</td>\n",
              "      <td>...</td>\n",
              "      <td>North</td>\n",
              "      <td>46.0</td>\n",
              "      <td>12.0</td>\n",
              "      <td>Yes</td>\n",
              "      <td>Yes</td>\n",
              "      <td>0.184</td>\n",
              "      <td>0.184</td>\n",
              "      <td>306.0</td>\n",
              "      <td>4.0</td>\n",
              "      <td>0.0</td>\n",
              "    </tr>\n",
              "    <tr>\n",
              "      <th>2</th>\n",
              "      <td>506688</td>\n",
              "      <td>284120.0</td>\n",
              "      <td>N</td>\n",
              "      <td>101056.0</td>\n",
              "      <td>8390.40</td>\n",
              "      <td>0.0118</td>\n",
              "      <td>Govt.</td>\n",
              "      <td>ndf</td>\n",
              "      <td>One</td>\n",
              "      <td>4.0</td>\n",
              "      <td>...</td>\n",
              "      <td>North</td>\n",
              "      <td>57.0</td>\n",
              "      <td>5.0</td>\n",
              "      <td>Yes</td>\n",
              "      <td>Yes</td>\n",
              "      <td>0.538</td>\n",
              "      <td>0.538</td>\n",
              "      <td>281.0</td>\n",
              "      <td>4.0</td>\n",
              "      <td>0.0</td>\n",
              "    </tr>\n",
              "    <tr>\n",
              "      <th>3</th>\n",
              "      <td>499360</td>\n",
              "      <td>341874.0</td>\n",
              "      <td>N</td>\n",
              "      <td>179008.0</td>\n",
              "      <td>7184.13</td>\n",
              "      <td>0.0373</td>\n",
              "      <td>Non-IT</td>\n",
              "      <td>df</td>\n",
              "      <td>None</td>\n",
              "      <td>2.0</td>\n",
              "      <td>...</td>\n",
              "      <td>South</td>\n",
              "      <td>39.0</td>\n",
              "      <td>12.0</td>\n",
              "      <td>Yes</td>\n",
              "      <td>Yes</td>\n",
              "      <td>NaN</td>\n",
              "      <td>0.561</td>\n",
              "      <td>20.0</td>\n",
              "      <td>4.0</td>\n",
              "      <td>0.0</td>\n",
              "    </tr>\n",
              "    <tr>\n",
              "      <th>4</th>\n",
              "      <td>438350</td>\n",
              "      <td>1259895.0</td>\n",
              "      <td>Y</td>\n",
              "      <td>573715.0</td>\n",
              "      <td>13212.77</td>\n",
              "      <td>0.0138</td>\n",
              "      <td>Non-IT</td>\n",
              "      <td>ndf</td>\n",
              "      <td>Morethan_One</td>\n",
              "      <td>1.0</td>\n",
              "      <td>...</td>\n",
              "      <td>North</td>\n",
              "      <td>32.0</td>\n",
              "      <td>16.0</td>\n",
              "      <td>Yes</td>\n",
              "      <td>Yes</td>\n",
              "      <td>NaN</td>\n",
              "      <td>0.200</td>\n",
              "      <td>2339.0</td>\n",
              "      <td>6.0</td>\n",
              "      <td>0.0</td>\n",
              "    </tr>\n",
              "  </tbody>\n",
              "</table>\n",
              "<p>5 rows × 33 columns</p>\n",
              "</div>\n",
              "      <button class=\"colab-df-convert\" onclick=\"convertToInteractive('df-d4230dd9-9266-4239-9ad8-86468b41e210')\"\n",
              "              title=\"Convert this dataframe to an interactive table.\"\n",
              "              style=\"display:none;\">\n",
              "        \n",
              "  <svg xmlns=\"http://www.w3.org/2000/svg\" height=\"24px\"viewBox=\"0 0 24 24\"\n",
              "       width=\"24px\">\n",
              "    <path d=\"M0 0h24v24H0V0z\" fill=\"none\"/>\n",
              "    <path d=\"M18.56 5.44l.94 2.06.94-2.06 2.06-.94-2.06-.94-.94-2.06-.94 2.06-2.06.94zm-11 1L8.5 8.5l.94-2.06 2.06-.94-2.06-.94L8.5 2.5l-.94 2.06-2.06.94zm10 10l.94 2.06.94-2.06 2.06-.94-2.06-.94-.94-2.06-.94 2.06-2.06.94z\"/><path d=\"M17.41 7.96l-1.37-1.37c-.4-.4-.92-.59-1.43-.59-.52 0-1.04.2-1.43.59L10.3 9.45l-7.72 7.72c-.78.78-.78 2.05 0 2.83L4 21.41c.39.39.9.59 1.41.59.51 0 1.02-.2 1.41-.59l7.78-7.78 2.81-2.81c.8-.78.8-2.07 0-2.86zM5.41 20L4 18.59l7.72-7.72 1.47 1.35L5.41 20z\"/>\n",
              "  </svg>\n",
              "      </button>\n",
              "      \n",
              "  <style>\n",
              "    .colab-df-container {\n",
              "      display:flex;\n",
              "      flex-wrap:wrap;\n",
              "      gap: 12px;\n",
              "    }\n",
              "\n",
              "    .colab-df-convert {\n",
              "      background-color: #E8F0FE;\n",
              "      border: none;\n",
              "      border-radius: 50%;\n",
              "      cursor: pointer;\n",
              "      display: none;\n",
              "      fill: #1967D2;\n",
              "      height: 32px;\n",
              "      padding: 0 0 0 0;\n",
              "      width: 32px;\n",
              "    }\n",
              "\n",
              "    .colab-df-convert:hover {\n",
              "      background-color: #E2EBFA;\n",
              "      box-shadow: 0px 1px 2px rgba(60, 64, 67, 0.3), 0px 1px 3px 1px rgba(60, 64, 67, 0.15);\n",
              "      fill: #174EA6;\n",
              "    }\n",
              "\n",
              "    [theme=dark] .colab-df-convert {\n",
              "      background-color: #3B4455;\n",
              "      fill: #D2E3FC;\n",
              "    }\n",
              "\n",
              "    [theme=dark] .colab-df-convert:hover {\n",
              "      background-color: #434B5C;\n",
              "      box-shadow: 0px 1px 3px 1px rgba(0, 0, 0, 0.15);\n",
              "      filter: drop-shadow(0px 1px 2px rgba(0, 0, 0, 0.3));\n",
              "      fill: #FFFFFF;\n",
              "    }\n",
              "  </style>\n",
              "\n",
              "      <script>\n",
              "        const buttonEl =\n",
              "          document.querySelector('#df-d4230dd9-9266-4239-9ad8-86468b41e210 button.colab-df-convert');\n",
              "        buttonEl.style.display =\n",
              "          google.colab.kernel.accessAllowed ? 'block' : 'none';\n",
              "\n",
              "        async function convertToInteractive(key) {\n",
              "          const element = document.querySelector('#df-d4230dd9-9266-4239-9ad8-86468b41e210');\n",
              "          const dataTable =\n",
              "            await google.colab.kernel.invokeFunction('convertToInteractive',\n",
              "                                                     [key], {});\n",
              "          if (!dataTable) return;\n",
              "\n",
              "          const docLinkHtml = 'Like what you see? Visit the ' +\n",
              "            '<a target=\"_blank\" href=https://colab.research.google.com/notebooks/data_table.ipynb>data table notebook</a>'\n",
              "            + ' to learn more about interactive tables.';\n",
              "          element.innerHTML = '';\n",
              "          dataTable['output_type'] = 'display_data';\n",
              "          await google.colab.output.renderOutput(dataTable, element);\n",
              "          const docLink = document.createElement('div');\n",
              "          docLink.innerHTML = docLinkHtml;\n",
              "          element.appendChild(docLink);\n",
              "        }\n",
              "      </script>\n",
              "    </div>\n",
              "  </div>\n",
              "  "
            ]
          },
          "metadata": {},
          "execution_count": 6
        }
      ]
    },
    {
      "cell_type": "code",
      "source": [
        "train.describe().T"
      ],
      "metadata": {
        "colab": {
          "base_uri": "https://localhost:8080/",
          "height": 551
        },
        "id": "hxf1VuSX-iS9",
        "outputId": "1eab2053-b4b5-447a-e1a9-db9a4d49dc8c"
      },
      "execution_count": null,
      "outputs": [
        {
          "output_type": "execute_result",
          "data": {
            "text/plain": [
              "                    count           mean            std          min  \\\n",
              "ID               132440.0  488938.279319   58568.207772  387652.0000   \n",
              "Compensation     126198.0  745051.897431  470276.230114  152728.0000   \n",
              "Loan_amt         132440.0  414801.133722  274678.779207   34275.0000   \n",
              "Annuity_amt      127829.0   10845.286442    2061.529355    5852.1000   \n",
              "density_Ind      127024.0       0.020446       0.015077       0.0001   \n",
              "Home_Appliances  121476.0       3.220891       1.241751       1.0000   \n",
              "Experience       110595.0       6.580616       6.357054       0.0000   \n",
              "Dependents       132440.0       2.155467       0.909046       1.0000   \n",
              "Company_Rating   120709.0       2.030553       0.503750       1.0000   \n",
              "Age              132440.0      43.933260      11.962700      21.0000   \n",
              "hour_Process     132440.0      12.060865       3.566714       0.0000   \n",
              "c1_rated         114927.0       0.505929       0.268665       0.0000   \n",
              "c2_rated         119119.0       0.506181       0.268716       0.0000   \n",
              "Contact_age      124287.0     979.451383     829.632194      10.0000   \n",
              "Product_bought   132440.0       3.387738       2.173246       0.0000   \n",
              "Default          132440.0       0.264301       0.440962       0.0000   \n",
              "\n",
              "                         25%          50%          75%           max  \n",
              "ID               438095.5000  488952.5000  539702.0000  5.904070e+05  \n",
              "Compensation     517706.0000  665996.0000  879489.0000  7.037702e+07  \n",
              "Loan_amt         204529.9500  349542.5000  558205.0000  2.872142e+06  \n",
              "Annuity_amt        9348.3700   10773.8200   12165.3900  4.130100e+04  \n",
              "density_Ind           0.0104       0.0204       0.0304  2.017800e+00  \n",
              "Home_Appliances       2.0000       4.0000       4.0000  1.900000e+01  \n",
              "Experience            2.1000       4.6000       9.0000  4.810000e+01  \n",
              "Dependents            2.0000       2.0000       3.0000  9.000000e+00  \n",
              "Company_Rating        2.0000       2.0000       2.0000  3.000000e+00  \n",
              "Age                  34.0000      43.0000      54.0000  6.900000e+01  \n",
              "hour_Process         10.0000      12.0000      15.0000  2.500000e+01  \n",
              "c1_rated              0.2680       0.5000       0.7690  9.470000e-01  \n",
              "c2_rated              0.2680       0.5000       0.7690  9.470000e-01  \n",
              "Contact_age         288.0000     770.0000    1589.0000  4.309000e+03  \n",
              "Product_bought        2.0000       3.0000       5.0000  2.500000e+01  \n",
              "Default               0.0000       0.0000       1.0000  1.000000e+00  "
            ],
            "text/html": [
              "\n",
              "  <div id=\"df-25b9015e-0d48-46c5-8854-f87d079b8f87\">\n",
              "    <div class=\"colab-df-container\">\n",
              "      <div>\n",
              "<style scoped>\n",
              "    .dataframe tbody tr th:only-of-type {\n",
              "        vertical-align: middle;\n",
              "    }\n",
              "\n",
              "    .dataframe tbody tr th {\n",
              "        vertical-align: top;\n",
              "    }\n",
              "\n",
              "    .dataframe thead th {\n",
              "        text-align: right;\n",
              "    }\n",
              "</style>\n",
              "<table border=\"1\" class=\"dataframe\">\n",
              "  <thead>\n",
              "    <tr style=\"text-align: right;\">\n",
              "      <th></th>\n",
              "      <th>count</th>\n",
              "      <th>mean</th>\n",
              "      <th>std</th>\n",
              "      <th>min</th>\n",
              "      <th>25%</th>\n",
              "      <th>50%</th>\n",
              "      <th>75%</th>\n",
              "      <th>max</th>\n",
              "    </tr>\n",
              "  </thead>\n",
              "  <tbody>\n",
              "    <tr>\n",
              "      <th>ID</th>\n",
              "      <td>132440.0</td>\n",
              "      <td>488938.279319</td>\n",
              "      <td>58568.207772</td>\n",
              "      <td>387652.0000</td>\n",
              "      <td>438095.5000</td>\n",
              "      <td>488952.5000</td>\n",
              "      <td>539702.0000</td>\n",
              "      <td>5.904070e+05</td>\n",
              "    </tr>\n",
              "    <tr>\n",
              "      <th>Compensation</th>\n",
              "      <td>126198.0</td>\n",
              "      <td>745051.897431</td>\n",
              "      <td>470276.230114</td>\n",
              "      <td>152728.0000</td>\n",
              "      <td>517706.0000</td>\n",
              "      <td>665996.0000</td>\n",
              "      <td>879489.0000</td>\n",
              "      <td>7.037702e+07</td>\n",
              "    </tr>\n",
              "    <tr>\n",
              "      <th>Loan_amt</th>\n",
              "      <td>132440.0</td>\n",
              "      <td>414801.133722</td>\n",
              "      <td>274678.779207</td>\n",
              "      <td>34275.0000</td>\n",
              "      <td>204529.9500</td>\n",
              "      <td>349542.5000</td>\n",
              "      <td>558205.0000</td>\n",
              "      <td>2.872142e+06</td>\n",
              "    </tr>\n",
              "    <tr>\n",
              "      <th>Annuity_amt</th>\n",
              "      <td>127829.0</td>\n",
              "      <td>10845.286442</td>\n",
              "      <td>2061.529355</td>\n",
              "      <td>5852.1000</td>\n",
              "      <td>9348.3700</td>\n",
              "      <td>10773.8200</td>\n",
              "      <td>12165.3900</td>\n",
              "      <td>4.130100e+04</td>\n",
              "    </tr>\n",
              "    <tr>\n",
              "      <th>density_Ind</th>\n",
              "      <td>127024.0</td>\n",
              "      <td>0.020446</td>\n",
              "      <td>0.015077</td>\n",
              "      <td>0.0001</td>\n",
              "      <td>0.0104</td>\n",
              "      <td>0.0204</td>\n",
              "      <td>0.0304</td>\n",
              "      <td>2.017800e+00</td>\n",
              "    </tr>\n",
              "    <tr>\n",
              "      <th>Home_Appliances</th>\n",
              "      <td>121476.0</td>\n",
              "      <td>3.220891</td>\n",
              "      <td>1.241751</td>\n",
              "      <td>1.0000</td>\n",
              "      <td>2.0000</td>\n",
              "      <td>4.0000</td>\n",
              "      <td>4.0000</td>\n",
              "      <td>1.900000e+01</td>\n",
              "    </tr>\n",
              "    <tr>\n",
              "      <th>Experience</th>\n",
              "      <td>110595.0</td>\n",
              "      <td>6.580616</td>\n",
              "      <td>6.357054</td>\n",
              "      <td>0.0000</td>\n",
              "      <td>2.1000</td>\n",
              "      <td>4.6000</td>\n",
              "      <td>9.0000</td>\n",
              "      <td>4.810000e+01</td>\n",
              "    </tr>\n",
              "    <tr>\n",
              "      <th>Dependents</th>\n",
              "      <td>132440.0</td>\n",
              "      <td>2.155467</td>\n",
              "      <td>0.909046</td>\n",
              "      <td>1.0000</td>\n",
              "      <td>2.0000</td>\n",
              "      <td>2.0000</td>\n",
              "      <td>3.0000</td>\n",
              "      <td>9.000000e+00</td>\n",
              "    </tr>\n",
              "    <tr>\n",
              "      <th>Company_Rating</th>\n",
              "      <td>120709.0</td>\n",
              "      <td>2.030553</td>\n",
              "      <td>0.503750</td>\n",
              "      <td>1.0000</td>\n",
              "      <td>2.0000</td>\n",
              "      <td>2.0000</td>\n",
              "      <td>2.0000</td>\n",
              "      <td>3.000000e+00</td>\n",
              "    </tr>\n",
              "    <tr>\n",
              "      <th>Age</th>\n",
              "      <td>132440.0</td>\n",
              "      <td>43.933260</td>\n",
              "      <td>11.962700</td>\n",
              "      <td>21.0000</td>\n",
              "      <td>34.0000</td>\n",
              "      <td>43.0000</td>\n",
              "      <td>54.0000</td>\n",
              "      <td>6.900000e+01</td>\n",
              "    </tr>\n",
              "    <tr>\n",
              "      <th>hour_Process</th>\n",
              "      <td>132440.0</td>\n",
              "      <td>12.060865</td>\n",
              "      <td>3.566714</td>\n",
              "      <td>0.0000</td>\n",
              "      <td>10.0000</td>\n",
              "      <td>12.0000</td>\n",
              "      <td>15.0000</td>\n",
              "      <td>2.500000e+01</td>\n",
              "    </tr>\n",
              "    <tr>\n",
              "      <th>c1_rated</th>\n",
              "      <td>114927.0</td>\n",
              "      <td>0.505929</td>\n",
              "      <td>0.268665</td>\n",
              "      <td>0.0000</td>\n",
              "      <td>0.2680</td>\n",
              "      <td>0.5000</td>\n",
              "      <td>0.7690</td>\n",
              "      <td>9.470000e-01</td>\n",
              "    </tr>\n",
              "    <tr>\n",
              "      <th>c2_rated</th>\n",
              "      <td>119119.0</td>\n",
              "      <td>0.506181</td>\n",
              "      <td>0.268716</td>\n",
              "      <td>0.0000</td>\n",
              "      <td>0.2680</td>\n",
              "      <td>0.5000</td>\n",
              "      <td>0.7690</td>\n",
              "      <td>9.470000e-01</td>\n",
              "    </tr>\n",
              "    <tr>\n",
              "      <th>Contact_age</th>\n",
              "      <td>124287.0</td>\n",
              "      <td>979.451383</td>\n",
              "      <td>829.632194</td>\n",
              "      <td>10.0000</td>\n",
              "      <td>288.0000</td>\n",
              "      <td>770.0000</td>\n",
              "      <td>1589.0000</td>\n",
              "      <td>4.309000e+03</td>\n",
              "    </tr>\n",
              "    <tr>\n",
              "      <th>Product_bought</th>\n",
              "      <td>132440.0</td>\n",
              "      <td>3.387738</td>\n",
              "      <td>2.173246</td>\n",
              "      <td>0.0000</td>\n",
              "      <td>2.0000</td>\n",
              "      <td>3.0000</td>\n",
              "      <td>5.0000</td>\n",
              "      <td>2.500000e+01</td>\n",
              "    </tr>\n",
              "    <tr>\n",
              "      <th>Default</th>\n",
              "      <td>132440.0</td>\n",
              "      <td>0.264301</td>\n",
              "      <td>0.440962</td>\n",
              "      <td>0.0000</td>\n",
              "      <td>0.0000</td>\n",
              "      <td>0.0000</td>\n",
              "      <td>1.0000</td>\n",
              "      <td>1.000000e+00</td>\n",
              "    </tr>\n",
              "  </tbody>\n",
              "</table>\n",
              "</div>\n",
              "      <button class=\"colab-df-convert\" onclick=\"convertToInteractive('df-25b9015e-0d48-46c5-8854-f87d079b8f87')\"\n",
              "              title=\"Convert this dataframe to an interactive table.\"\n",
              "              style=\"display:none;\">\n",
              "        \n",
              "  <svg xmlns=\"http://www.w3.org/2000/svg\" height=\"24px\"viewBox=\"0 0 24 24\"\n",
              "       width=\"24px\">\n",
              "    <path d=\"M0 0h24v24H0V0z\" fill=\"none\"/>\n",
              "    <path d=\"M18.56 5.44l.94 2.06.94-2.06 2.06-.94-2.06-.94-.94-2.06-.94 2.06-2.06.94zm-11 1L8.5 8.5l.94-2.06 2.06-.94-2.06-.94L8.5 2.5l-.94 2.06-2.06.94zm10 10l.94 2.06.94-2.06 2.06-.94-2.06-.94-.94-2.06-.94 2.06-2.06.94z\"/><path d=\"M17.41 7.96l-1.37-1.37c-.4-.4-.92-.59-1.43-.59-.52 0-1.04.2-1.43.59L10.3 9.45l-7.72 7.72c-.78.78-.78 2.05 0 2.83L4 21.41c.39.39.9.59 1.41.59.51 0 1.02-.2 1.41-.59l7.78-7.78 2.81-2.81c.8-.78.8-2.07 0-2.86zM5.41 20L4 18.59l7.72-7.72 1.47 1.35L5.41 20z\"/>\n",
              "  </svg>\n",
              "      </button>\n",
              "      \n",
              "  <style>\n",
              "    .colab-df-container {\n",
              "      display:flex;\n",
              "      flex-wrap:wrap;\n",
              "      gap: 12px;\n",
              "    }\n",
              "\n",
              "    .colab-df-convert {\n",
              "      background-color: #E8F0FE;\n",
              "      border: none;\n",
              "      border-radius: 50%;\n",
              "      cursor: pointer;\n",
              "      display: none;\n",
              "      fill: #1967D2;\n",
              "      height: 32px;\n",
              "      padding: 0 0 0 0;\n",
              "      width: 32px;\n",
              "    }\n",
              "\n",
              "    .colab-df-convert:hover {\n",
              "      background-color: #E2EBFA;\n",
              "      box-shadow: 0px 1px 2px rgba(60, 64, 67, 0.3), 0px 1px 3px 1px rgba(60, 64, 67, 0.15);\n",
              "      fill: #174EA6;\n",
              "    }\n",
              "\n",
              "    [theme=dark] .colab-df-convert {\n",
              "      background-color: #3B4455;\n",
              "      fill: #D2E3FC;\n",
              "    }\n",
              "\n",
              "    [theme=dark] .colab-df-convert:hover {\n",
              "      background-color: #434B5C;\n",
              "      box-shadow: 0px 1px 3px 1px rgba(0, 0, 0, 0.15);\n",
              "      filter: drop-shadow(0px 1px 2px rgba(0, 0, 0, 0.3));\n",
              "      fill: #FFFFFF;\n",
              "    }\n",
              "  </style>\n",
              "\n",
              "      <script>\n",
              "        const buttonEl =\n",
              "          document.querySelector('#df-25b9015e-0d48-46c5-8854-f87d079b8f87 button.colab-df-convert');\n",
              "        buttonEl.style.display =\n",
              "          google.colab.kernel.accessAllowed ? 'block' : 'none';\n",
              "\n",
              "        async function convertToInteractive(key) {\n",
              "          const element = document.querySelector('#df-25b9015e-0d48-46c5-8854-f87d079b8f87');\n",
              "          const dataTable =\n",
              "            await google.colab.kernel.invokeFunction('convertToInteractive',\n",
              "                                                     [key], {});\n",
              "          if (!dataTable) return;\n",
              "\n",
              "          const docLinkHtml = 'Like what you see? Visit the ' +\n",
              "            '<a target=\"_blank\" href=https://colab.research.google.com/notebooks/data_table.ipynb>data table notebook</a>'\n",
              "            + ' to learn more about interactive tables.';\n",
              "          element.innerHTML = '';\n",
              "          dataTable['output_type'] = 'display_data';\n",
              "          await google.colab.output.renderOutput(dataTable, element);\n",
              "          const docLink = document.createElement('div');\n",
              "          docLink.innerHTML = docLinkHtml;\n",
              "          element.appendChild(docLink);\n",
              "        }\n",
              "      </script>\n",
              "    </div>\n",
              "  </div>\n",
              "  "
            ]
          },
          "metadata": {},
          "execution_count": 7
        }
      ]
    },
    {
      "cell_type": "code",
      "source": [
        "train.info()"
      ],
      "metadata": {
        "colab": {
          "base_uri": "https://localhost:8080/"
        },
        "id": "UTiR8uKZ_QFf",
        "outputId": "19a2ecaa-48f5-45e3-b75f-a6fb44005b29"
      },
      "execution_count": null,
      "outputs": [
        {
          "output_type": "stream",
          "name": "stdout",
          "text": [
            "<class 'pandas.core.frame.DataFrame'>\n",
            "RangeIndex: 132440 entries, 0 to 132439\n",
            "Data columns (total 33 columns):\n",
            " #   Column              Non-Null Count   Dtype  \n",
            "---  ------              --------------   -----  \n",
            " 0   ID                  132440 non-null  int64  \n",
            " 1   Compensation        126198 non-null  float64\n",
            " 2   Vehicle_Status      123336 non-null  object \n",
            " 3   Loan_amt            132440 non-null  float64\n",
            " 4   Annuity_amt         127829 non-null  float64\n",
            " 5   density_Ind         127024 non-null  float64\n",
            " 6   Job_Type            122192 non-null  object \n",
            " 7   Default_hist        132440 non-null  object \n",
            " 8   Prop_List           130475 non-null  object \n",
            " 9   Home_Appliances     121476 non-null  float64\n",
            " 10  Region_Type         132440 non-null  object \n",
            " 11  Credit_Inq          129750 non-null  object \n",
            " 12  Education_det       132440 non-null  object \n",
            " 13  Marital_Stat        132440 non-null  object \n",
            " 14  Gen                 132440 non-null  object \n",
            " 15  Credit_Lnks         132440 non-null  object \n",
            " 16  Experience          110595 non-null  float64\n",
            " 17  Income_Alt          124758 non-null  object \n",
            " 18  Day_Process         132440 non-null  object \n",
            " 19  Ph.No               132440 non-null  object \n",
            " 20  Type_Loan           132440 non-null  object \n",
            " 21  Dependents          132440 non-null  float64\n",
            " 22  Company_Rating      120709 non-null  float64\n",
            " 23  Region              132440 non-null  object \n",
            " 24  Age                 132440 non-null  float64\n",
            " 25  hour_Process        132440 non-null  float64\n",
            " 26  Addr_permanent      132440 non-null  object \n",
            " 27  Permanent_Addr_tag  132440 non-null  object \n",
            " 28  c1_rated            114927 non-null  float64\n",
            " 29  c2_rated            119119 non-null  float64\n",
            " 30  Contact_age         124287 non-null  float64\n",
            " 31  Product_bought      132440 non-null  float64\n",
            " 32  Default             132440 non-null  float64\n",
            "dtypes: float64(15), int64(1), object(17)\n",
            "memory usage: 33.3+ MB\n"
          ]
        }
      ]
    },
    {
      "cell_type": "markdown",
      "source": [
        "**Take aways**:\n",
        "\n",
        "- Dataset has missing values\n",
        "- 132440 rows and 33 columns\n",
        "- ID is superflous feature, remove it"
      ],
      "metadata": {
        "id": "xgTdQm4g_orN"
      }
    },
    {
      "cell_type": "code",
      "source": [
        "# Converting object to catogorical data type\n",
        "\n",
        "def object_to_cat(dataset):\n",
        "  for feature in dataset.columns:\n",
        "     if dataset[feature].dtype == 'object':\n",
        "       dataset[feature] = pd.Categorical(dataset[feature])\n",
        "  dataset.head(10)"
      ],
      "metadata": {
        "id": "QKOYKYVeuDuY"
      },
      "execution_count": 1,
      "outputs": []
    },
    {
      "cell_type": "code",
      "source": [
        "#train=object_to_cat(train)\n",
        "#test=object_to_cat(test)"
      ],
      "metadata": {
        "id": "q4I-i1nDu6OF"
      },
      "execution_count": null,
      "outputs": []
    },
    {
      "cell_type": "code",
      "source": [
        "train.info()"
      ],
      "metadata": {
        "colab": {
          "base_uri": "https://localhost:8080/"
        },
        "id": "Z5K5fmtXxLS-",
        "outputId": "42aa4b88-5500-4b98-ca2f-642d56dcf610"
      },
      "execution_count": null,
      "outputs": [
        {
          "output_type": "stream",
          "name": "stdout",
          "text": [
            "<class 'pandas.core.frame.DataFrame'>\n",
            "RangeIndex: 132440 entries, 0 to 132439\n",
            "Data columns (total 33 columns):\n",
            " #   Column              Non-Null Count   Dtype  \n",
            "---  ------              --------------   -----  \n",
            " 0   ID                  132440 non-null  int64  \n",
            " 1   Compensation        126198 non-null  float64\n",
            " 2   Vehicle_Status      123336 non-null  object \n",
            " 3   Loan_amt            132440 non-null  float64\n",
            " 4   Annuity_amt         127829 non-null  float64\n",
            " 5   density_Ind         127024 non-null  float64\n",
            " 6   Job_Type            122192 non-null  object \n",
            " 7   Default_hist        132440 non-null  object \n",
            " 8   Prop_List           130475 non-null  object \n",
            " 9   Home_Appliances     121476 non-null  float64\n",
            " 10  Region_Type         132440 non-null  object \n",
            " 11  Credit_Inq          129750 non-null  object \n",
            " 12  Education_det       132440 non-null  object \n",
            " 13  Marital_Stat        132440 non-null  object \n",
            " 14  Gen                 132440 non-null  object \n",
            " 15  Credit_Lnks         132440 non-null  object \n",
            " 16  Experience          110595 non-null  float64\n",
            " 17  Income_Alt          124758 non-null  object \n",
            " 18  Day_Process         132440 non-null  object \n",
            " 19  Ph.No               132440 non-null  object \n",
            " 20  Type_Loan           132440 non-null  object \n",
            " 21  Dependents          132440 non-null  float64\n",
            " 22  Company_Rating      120709 non-null  float64\n",
            " 23  Region              132440 non-null  object \n",
            " 24  Age                 132440 non-null  float64\n",
            " 25  hour_Process        132440 non-null  float64\n",
            " 26  Addr_permanent      132440 non-null  object \n",
            " 27  Permanent_Addr_tag  132440 non-null  object \n",
            " 28  c1_rated            114927 non-null  float64\n",
            " 29  c2_rated            119119 non-null  float64\n",
            " 30  Contact_age         124287 non-null  float64\n",
            " 31  Product_bought      132440 non-null  float64\n",
            " 32  Default             132440 non-null  float64\n",
            "dtypes: float64(15), int64(1), object(17)\n",
            "memory usage: 33.3+ MB\n"
          ]
        }
      ]
    },
    {
      "cell_type": "markdown",
      "source": [
        "## Data Cleaning"
      ],
      "metadata": {
        "id": "hpFGPfHFYMmo"
      }
    },
    {
      "cell_type": "code",
      "source": [
        "# Droping unwanted columns from all dataframes\n",
        "\n",
        "def drop_col(dataset, col_to_drop):\n",
        "    dataset.drop(col_to_drop, axis=1, inplace=True)\n",
        "    return dataset\n",
        "\n",
        "col_to_drop = ['ID','Annuity_amt', 'Day_Process', 'Ph.No', 'Region', 'Permanent_Addr_tag']\n",
        "train = drop_col(train,col_to_drop)\n",
        "test = drop_col(test,col_to_drop)"
      ],
      "metadata": {
        "id": "8mPPmlmTBFYI"
      },
      "execution_count": null,
      "outputs": []
    },
    {
      "cell_type": "code",
      "source": [
        "# Displaying the unique values of the each feature\n",
        "\n",
        "def display_unique_values(dataset, categorical_cols, info='count'):\n",
        "    print(\"Unique values: \")  \n",
        "    for col in categorical_cols:\n",
        "        if(info == 'values'):\n",
        "                print(\"{} : {}\".format(col, dataset[col].unique()))\n",
        "        elif(info == 'count'):\n",
        "                print(\"{} : {}\".format(col, len(dataset[col].unique())))\n",
        "    return None\n",
        "\n",
        "display_unique_values(train, train.columns, 'count')"
      ],
      "metadata": {
        "colab": {
          "base_uri": "https://localhost:8080/"
        },
        "id": "w_0P5_BnC2Ah",
        "outputId": "fe9367f4-8b5a-4586-909c-c4f2af49befc"
      },
      "execution_count": null,
      "outputs": [
        {
          "output_type": "stream",
          "name": "stdout",
          "text": [
            "Unique values: \n",
            "Compensation : 84096\n",
            "Vehicle_Status : 3\n",
            "Loan_amt : 119260\n",
            "density_Ind : 418\n",
            "Job_Type : 4\n",
            "Default_hist : 2\n",
            "Prop_List : 4\n",
            "Home_Appliances : 14\n",
            "Region_Type : 3\n",
            "Credit_Inq : 5\n",
            "Education_det : 3\n",
            "Marital_Stat : 4\n",
            "Gen : 2\n",
            "Credit_Lnks : 3\n",
            "Experience : 447\n",
            "Income_Alt : 3\n",
            "Type_Loan : 2\n",
            "Dependents : 9\n",
            "Company_Rating : 4\n",
            "Age : 49\n",
            "hour_Process : 26\n",
            "Addr_permanent : 2\n",
            "c1_rated : 870\n",
            "c2_rated : 870\n",
            "Contact_age : 3610\n",
            "Product_bought : 25\n",
            "Default : 2\n"
          ]
        }
      ]
    },
    {
      "cell_type": "code",
      "source": [
        "# Lets check % of missing values\n",
        "\n",
        "percent_null=train.isnull().sum()/len(train)*100"
      ],
      "metadata": {
        "id": "jR-s2c4vEoQo"
      },
      "execution_count": null,
      "outputs": []
    },
    {
      "cell_type": "code",
      "source": [
        "print(percent_null)"
      ],
      "metadata": {
        "colab": {
          "base_uri": "https://localhost:8080/"
        },
        "id": "U8X__sPTxDHm",
        "outputId": "e6872a7c-7f1b-4dfa-feee-0130abca8c08"
      },
      "execution_count": null,
      "outputs": [
        {
          "output_type": "stream",
          "name": "stdout",
          "text": [
            "Compensation        4.713078\n",
            "Vehicle_Status      6.874056\n",
            "Loan_amt            0.000000\n",
            "density_Ind         4.089399\n",
            "Job_Type            7.737844\n",
            "Default_hist        0.000000\n",
            "Prop_List           1.483691\n",
            "Home_Appliances     8.278466\n",
            "Region_Type         0.000000\n",
            "Credit_Inq          2.031108\n",
            "Education_det       0.000000\n",
            "Marital_Stat        0.000000\n",
            "Gen                 0.000000\n",
            "Credit_Lnks         0.000000\n",
            "Experience         16.494262\n",
            "Income_Alt          5.800362\n",
            "Type_Loan           0.000000\n",
            "Dependents          0.000000\n",
            "Company_Rating      8.857596\n",
            "Age                 0.000000\n",
            "hour_Process        0.000000\n",
            "Addr_permanent      0.000000\n",
            "c1_rated           13.223346\n",
            "c2_rated           10.058140\n",
            "Contact_age         6.155995\n",
            "Product_bought      0.000000\n",
            "Default             0.000000\n",
            "dtype: float64\n"
          ]
        }
      ]
    },
    {
      "cell_type": "code",
      "source": [
        "train= train.replace(r'^\\s*$', np.nan, regex=True)"
      ],
      "metadata": {
        "id": "j6yGfgDAafb4"
      },
      "execution_count": null,
      "outputs": []
    },
    {
      "cell_type": "code",
      "source": [
        "# Lets check % of missing values\n",
        "\n",
        "percent_null_1=train.isnull().sum()/len(train)*100\n",
        "print(percent_null_1)"
      ],
      "metadata": {
        "colab": {
          "base_uri": "https://localhost:8080/"
        },
        "id": "Q82WLNS8atq1",
        "outputId": "2538d258-9567-4e72-8817-35f2552d6af3"
      },
      "execution_count": null,
      "outputs": [
        {
          "output_type": "stream",
          "name": "stdout",
          "text": [
            "Compensation        4.713078\n",
            "Vehicle_Status      6.874056\n",
            "Loan_amt            0.000000\n",
            "density_Ind         4.089399\n",
            "Job_Type            7.737844\n",
            "Default_hist        0.000000\n",
            "Prop_List           1.483691\n",
            "Home_Appliances     8.278466\n",
            "Region_Type         0.000000\n",
            "Credit_Inq          2.031108\n",
            "Education_det       0.000000\n",
            "Marital_Stat        0.000000\n",
            "Gen                 0.000000\n",
            "Credit_Lnks         0.000000\n",
            "Experience         16.494262\n",
            "Income_Alt          5.800362\n",
            "Type_Loan           0.000000\n",
            "Dependents          0.000000\n",
            "Company_Rating      8.857596\n",
            "Age                 0.000000\n",
            "hour_Process        0.000000\n",
            "Addr_permanent      0.000000\n",
            "c1_rated           13.223346\n",
            "c2_rated           10.058140\n",
            "Contact_age         6.155995\n",
            "Product_bought      0.000000\n",
            "Default             0.000000\n",
            "dtype: float64\n"
          ]
        }
      ]
    },
    {
      "cell_type": "code",
      "source": [
        "print(train['Job_Type'].mode())\n",
        "print(train['Prop_List'].mode())"
      ],
      "metadata": {
        "colab": {
          "base_uri": "https://localhost:8080/"
        },
        "id": "YG1_TzN-7aaq",
        "outputId": "17a61034-6e9e-42c8-fba5-01994d4ee7ed"
      },
      "execution_count": null,
      "outputs": [
        {
          "output_type": "stream",
          "name": "stdout",
          "text": [
            "0    IT\n",
            "dtype: object\n",
            "0    One\n",
            "dtype: object\n"
          ]
        }
      ]
    },
    {
      "cell_type": "code",
      "source": [
        "# Imputing missing values with Mode\n",
        "\n",
        "train['Job_Type'].fillna('IT', inplace=True)\n",
        "train['Prop_List'].fillna('One', inplace=True)\n",
        "train['Vehicle_Status'].fillna('N', inplace=True)\n",
        "train['Credit_Inq'].fillna(1,inplace=True)\n",
        "train['Income_Alt'].fillna('Not_Specified', inplace=True)\n",
        "\n",
        "test['Job_Type'].fillna('IT', inplace=True)\n",
        "test['Prop_List'].fillna('One', inplace=True)\n",
        "test['Vehicle_Status'].fillna('N', inplace=True)\n",
        "test['Credit_Inq'].fillna(1,inplace=True)\n",
        "test['Income_Alt'].fillna('Not_Specified', inplace=True)"
      ],
      "metadata": {
        "id": "mzX8YsgIxgDq"
      },
      "execution_count": null,
      "outputs": []
    },
    {
      "cell_type": "code",
      "source": [
        "# Imputing remaining missing values with Median values\n",
        "\n",
        "train.fillna(train.median(), inplace=True)\n",
        "test.fillna(test.median(), inplace=True)"
      ],
      "metadata": {
        "id": "QcSeef307RzU"
      },
      "execution_count": null,
      "outputs": []
    },
    {
      "cell_type": "code",
      "source": [
        "train.isnull().sum()"
      ],
      "metadata": {
        "colab": {
          "base_uri": "https://localhost:8080/"
        },
        "id": "jfLtwjy851KW",
        "outputId": "16584b32-15c3-4257-a59b-d193a8cb3da2"
      },
      "execution_count": null,
      "outputs": [
        {
          "output_type": "execute_result",
          "data": {
            "text/plain": [
              "Compensation       0\n",
              "Vehicle_Status     0\n",
              "Loan_amt           0\n",
              "density_Ind        0\n",
              "Job_Type           0\n",
              "Default_hist       0\n",
              "Prop_List          0\n",
              "Home_Appliances    0\n",
              "Region_Type        0\n",
              "Credit_Inq         0\n",
              "Education_det      0\n",
              "Marital_Stat       0\n",
              "Gen                0\n",
              "Credit_Lnks        0\n",
              "Experience         0\n",
              "Income_Alt         0\n",
              "Type_Loan          0\n",
              "Dependents         0\n",
              "Company_Rating     0\n",
              "Age                0\n",
              "hour_Process       0\n",
              "Addr_permanent     0\n",
              "c1_rated           0\n",
              "c2_rated           0\n",
              "Contact_age        0\n",
              "Product_bought     0\n",
              "Default            0\n",
              "dtype: int64"
            ]
          },
          "metadata": {},
          "execution_count": 21
        }
      ]
    },
    {
      "cell_type": "code",
      "source": [
        "test.isnull().sum()"
      ],
      "metadata": {
        "colab": {
          "base_uri": "https://localhost:8080/"
        },
        "id": "aWtvQIXZ7t5u",
        "outputId": "efdf139c-fca1-46d2-9435-74e83cdb7a6b"
      },
      "execution_count": null,
      "outputs": [
        {
          "output_type": "execute_result",
          "data": {
            "text/plain": [
              "Compensation       0\n",
              "Vehicle_Status     0\n",
              "Loan_amt           0\n",
              "density_Ind        0\n",
              "Job_Type           0\n",
              "Default_hist       0\n",
              "Prop_List          0\n",
              "Home_Appliances    0\n",
              "Region_Type        0\n",
              "Credit_Inq         0\n",
              "Education_det      0\n",
              "Marital_Stat       0\n",
              "Gen                0\n",
              "Credit_Lnks        0\n",
              "Experience         0\n",
              "Income_Alt         0\n",
              "Type_Loan          0\n",
              "Dependents         0\n",
              "Company_Rating     0\n",
              "Age                0\n",
              "hour_Process       0\n",
              "Addr_permanent     0\n",
              "c1_rated           0\n",
              "c2_rated           0\n",
              "Contact_age        0\n",
              "Product_bought     0\n",
              "dtype: int64"
            ]
          },
          "metadata": {},
          "execution_count": 22
        }
      ]
    },
    {
      "cell_type": "code",
      "source": [
        "train.dropna(axis=0, how='any', thresh=None, subset=None, inplace=True)\n",
        "test.dropna(axis=0, how='any', thresh=None, subset=None, inplace=True)"
      ],
      "metadata": {
        "id": "pyje4Rrx-id5"
      },
      "execution_count": null,
      "outputs": []
    },
    {
      "cell_type": "code",
      "source": [
        "train.shape"
      ],
      "metadata": {
        "colab": {
          "base_uri": "https://localhost:8080/"
        },
        "id": "lBB7fCx2_aE0",
        "outputId": "2699b3ca-193e-473f-ceba-b134ce42e52a"
      },
      "execution_count": null,
      "outputs": [
        {
          "output_type": "execute_result",
          "data": {
            "text/plain": [
              "(132440, 27)"
            ]
          },
          "metadata": {},
          "execution_count": 24
        }
      ]
    },
    {
      "cell_type": "code",
      "source": [
        "# Checking the correlation between various varibales\n",
        "\n",
        "train.corr()"
      ],
      "metadata": {
        "colab": {
          "base_uri": "https://localhost:8080/",
          "height": 552
        },
        "id": "T3MeGGhE_bt_",
        "outputId": "17f792c8-d96a-4d75-d706-761f483c0433"
      },
      "execution_count": null,
      "outputs": [
        {
          "output_type": "execute_result",
          "data": {
            "text/plain": [
              "                 Compensation  Loan_amt  density_Ind  Home_Appliances  \\\n",
              "Compensation         1.000000  0.259787     0.000507        -0.021215   \n",
              "Loan_amt             0.259787  1.000000     0.000764         0.002351   \n",
              "density_Ind          0.000507  0.000764     1.000000         0.001006   \n",
              "Home_Appliances     -0.021215  0.002351     0.001006         1.000000   \n",
              "Experience           0.037405  0.076837    -0.002619         0.037625   \n",
              "Dependents           0.027659  0.054520    -0.000832        -0.582533   \n",
              "Company_Rating      -0.154870 -0.097264    -0.009274        -0.009957   \n",
              "Age                 -0.041124  0.049473    -0.001734         0.311178   \n",
              "hour_Process         0.062827  0.042255     0.003018         0.000966   \n",
              "c1_rated            -0.014534  0.005653    -0.001438         0.007187   \n",
              "c2_rated            -0.014041  0.005408    -0.003249         0.008106   \n",
              "Contact_age          0.032155  0.061324    -0.002945        -0.005260   \n",
              "Product_bought       0.017947 -0.029405     0.000274         0.029511   \n",
              "Default             -0.001317 -0.008946     0.000969        -0.003978   \n",
              "\n",
              "                 Experience  Dependents  Company_Rating       Age  \\\n",
              "Compensation       0.037405    0.027659       -0.154870 -0.041124   \n",
              "Loan_amt           0.076837    0.054520       -0.097264  0.049473   \n",
              "density_Ind       -0.002619   -0.000832       -0.009274 -0.001734   \n",
              "Home_Appliances    0.037625   -0.582533       -0.009957  0.311178   \n",
              "Experience         1.000000   -0.006348        0.001029  0.191039   \n",
              "Dependents        -0.006348    1.000000        0.029160 -0.264799   \n",
              "Company_Rating     0.001029    0.029160        1.000000 -0.005961   \n",
              "Age                0.191039   -0.264799       -0.005961  1.000000   \n",
              "hour_Process      -0.002344   -0.011311       -0.221483 -0.076291   \n",
              "c1_rated           0.029976   -0.003822        0.000467  0.057166   \n",
              "c2_rated           0.031694   -0.003186        0.001606  0.058673   \n",
              "Contact_age        0.119263    0.026091       -0.022940  0.075316   \n",
              "Product_bought    -0.005627   -0.017262        0.006053  0.052711   \n",
              "Default           -0.019105    0.002355        0.014712 -0.023211   \n",
              "\n",
              "                 hour_Process  c1_rated  c2_rated  Contact_age  \\\n",
              "Compensation         0.062827 -0.014534 -0.014041     0.032155   \n",
              "Loan_amt             0.042255  0.005653  0.005408     0.061324   \n",
              "density_Ind          0.003018 -0.001438 -0.003249    -0.002945   \n",
              "Home_Appliances      0.000966  0.007187  0.008106    -0.005260   \n",
              "Experience          -0.002344  0.029976  0.031694     0.119263   \n",
              "Dependents          -0.011311 -0.003822 -0.003186     0.026091   \n",
              "Company_Rating      -0.221483  0.000467  0.001606    -0.022940   \n",
              "Age                 -0.076291  0.057166  0.058673     0.075316   \n",
              "hour_Process         1.000000 -0.011362 -0.010945     0.012945   \n",
              "c1_rated            -0.011362  1.000000  0.883822     0.020344   \n",
              "c2_rated            -0.010945  0.883822  1.000000     0.020045   \n",
              "Contact_age          0.012945  0.020344  0.020045     1.000000   \n",
              "Product_bought      -0.019775 -0.021153 -0.021792     0.076084   \n",
              "Default             -0.007573 -0.013626 -0.013526    -0.013979   \n",
              "\n",
              "                 Product_bought   Default  \n",
              "Compensation           0.017947 -0.001317  \n",
              "Loan_amt              -0.029405 -0.008946  \n",
              "density_Ind            0.000274  0.000969  \n",
              "Home_Appliances        0.029511 -0.003978  \n",
              "Experience            -0.005627 -0.019105  \n",
              "Dependents            -0.017262  0.002355  \n",
              "Company_Rating         0.006053  0.014712  \n",
              "Age                    0.052711 -0.023211  \n",
              "hour_Process          -0.019775 -0.007573  \n",
              "c1_rated              -0.021153 -0.013626  \n",
              "c2_rated              -0.021792 -0.013526  \n",
              "Contact_age            0.076084 -0.013979  \n",
              "Product_bought         1.000000  0.006387  \n",
              "Default                0.006387  1.000000  "
            ],
            "text/html": [
              "\n",
              "  <div id=\"df-bae53413-41f4-46b3-b7cf-10f287a4b542\">\n",
              "    <div class=\"colab-df-container\">\n",
              "      <div>\n",
              "<style scoped>\n",
              "    .dataframe tbody tr th:only-of-type {\n",
              "        vertical-align: middle;\n",
              "    }\n",
              "\n",
              "    .dataframe tbody tr th {\n",
              "        vertical-align: top;\n",
              "    }\n",
              "\n",
              "    .dataframe thead th {\n",
              "        text-align: right;\n",
              "    }\n",
              "</style>\n",
              "<table border=\"1\" class=\"dataframe\">\n",
              "  <thead>\n",
              "    <tr style=\"text-align: right;\">\n",
              "      <th></th>\n",
              "      <th>Compensation</th>\n",
              "      <th>Loan_amt</th>\n",
              "      <th>density_Ind</th>\n",
              "      <th>Home_Appliances</th>\n",
              "      <th>Experience</th>\n",
              "      <th>Dependents</th>\n",
              "      <th>Company_Rating</th>\n",
              "      <th>Age</th>\n",
              "      <th>hour_Process</th>\n",
              "      <th>c1_rated</th>\n",
              "      <th>c2_rated</th>\n",
              "      <th>Contact_age</th>\n",
              "      <th>Product_bought</th>\n",
              "      <th>Default</th>\n",
              "    </tr>\n",
              "  </thead>\n",
              "  <tbody>\n",
              "    <tr>\n",
              "      <th>Compensation</th>\n",
              "      <td>1.000000</td>\n",
              "      <td>0.259787</td>\n",
              "      <td>0.000507</td>\n",
              "      <td>-0.021215</td>\n",
              "      <td>0.037405</td>\n",
              "      <td>0.027659</td>\n",
              "      <td>-0.154870</td>\n",
              "      <td>-0.041124</td>\n",
              "      <td>0.062827</td>\n",
              "      <td>-0.014534</td>\n",
              "      <td>-0.014041</td>\n",
              "      <td>0.032155</td>\n",
              "      <td>0.017947</td>\n",
              "      <td>-0.001317</td>\n",
              "    </tr>\n",
              "    <tr>\n",
              "      <th>Loan_amt</th>\n",
              "      <td>0.259787</td>\n",
              "      <td>1.000000</td>\n",
              "      <td>0.000764</td>\n",
              "      <td>0.002351</td>\n",
              "      <td>0.076837</td>\n",
              "      <td>0.054520</td>\n",
              "      <td>-0.097264</td>\n",
              "      <td>0.049473</td>\n",
              "      <td>0.042255</td>\n",
              "      <td>0.005653</td>\n",
              "      <td>0.005408</td>\n",
              "      <td>0.061324</td>\n",
              "      <td>-0.029405</td>\n",
              "      <td>-0.008946</td>\n",
              "    </tr>\n",
              "    <tr>\n",
              "      <th>density_Ind</th>\n",
              "      <td>0.000507</td>\n",
              "      <td>0.000764</td>\n",
              "      <td>1.000000</td>\n",
              "      <td>0.001006</td>\n",
              "      <td>-0.002619</td>\n",
              "      <td>-0.000832</td>\n",
              "      <td>-0.009274</td>\n",
              "      <td>-0.001734</td>\n",
              "      <td>0.003018</td>\n",
              "      <td>-0.001438</td>\n",
              "      <td>-0.003249</td>\n",
              "      <td>-0.002945</td>\n",
              "      <td>0.000274</td>\n",
              "      <td>0.000969</td>\n",
              "    </tr>\n",
              "    <tr>\n",
              "      <th>Home_Appliances</th>\n",
              "      <td>-0.021215</td>\n",
              "      <td>0.002351</td>\n",
              "      <td>0.001006</td>\n",
              "      <td>1.000000</td>\n",
              "      <td>0.037625</td>\n",
              "      <td>-0.582533</td>\n",
              "      <td>-0.009957</td>\n",
              "      <td>0.311178</td>\n",
              "      <td>0.000966</td>\n",
              "      <td>0.007187</td>\n",
              "      <td>0.008106</td>\n",
              "      <td>-0.005260</td>\n",
              "      <td>0.029511</td>\n",
              "      <td>-0.003978</td>\n",
              "    </tr>\n",
              "    <tr>\n",
              "      <th>Experience</th>\n",
              "      <td>0.037405</td>\n",
              "      <td>0.076837</td>\n",
              "      <td>-0.002619</td>\n",
              "      <td>0.037625</td>\n",
              "      <td>1.000000</td>\n",
              "      <td>-0.006348</td>\n",
              "      <td>0.001029</td>\n",
              "      <td>0.191039</td>\n",
              "      <td>-0.002344</td>\n",
              "      <td>0.029976</td>\n",
              "      <td>0.031694</td>\n",
              "      <td>0.119263</td>\n",
              "      <td>-0.005627</td>\n",
              "      <td>-0.019105</td>\n",
              "    </tr>\n",
              "    <tr>\n",
              "      <th>Dependents</th>\n",
              "      <td>0.027659</td>\n",
              "      <td>0.054520</td>\n",
              "      <td>-0.000832</td>\n",
              "      <td>-0.582533</td>\n",
              "      <td>-0.006348</td>\n",
              "      <td>1.000000</td>\n",
              "      <td>0.029160</td>\n",
              "      <td>-0.264799</td>\n",
              "      <td>-0.011311</td>\n",
              "      <td>-0.003822</td>\n",
              "      <td>-0.003186</td>\n",
              "      <td>0.026091</td>\n",
              "      <td>-0.017262</td>\n",
              "      <td>0.002355</td>\n",
              "    </tr>\n",
              "    <tr>\n",
              "      <th>Company_Rating</th>\n",
              "      <td>-0.154870</td>\n",
              "      <td>-0.097264</td>\n",
              "      <td>-0.009274</td>\n",
              "      <td>-0.009957</td>\n",
              "      <td>0.001029</td>\n",
              "      <td>0.029160</td>\n",
              "      <td>1.000000</td>\n",
              "      <td>-0.005961</td>\n",
              "      <td>-0.221483</td>\n",
              "      <td>0.000467</td>\n",
              "      <td>0.001606</td>\n",
              "      <td>-0.022940</td>\n",
              "      <td>0.006053</td>\n",
              "      <td>0.014712</td>\n",
              "    </tr>\n",
              "    <tr>\n",
              "      <th>Age</th>\n",
              "      <td>-0.041124</td>\n",
              "      <td>0.049473</td>\n",
              "      <td>-0.001734</td>\n",
              "      <td>0.311178</td>\n",
              "      <td>0.191039</td>\n",
              "      <td>-0.264799</td>\n",
              "      <td>-0.005961</td>\n",
              "      <td>1.000000</td>\n",
              "      <td>-0.076291</td>\n",
              "      <td>0.057166</td>\n",
              "      <td>0.058673</td>\n",
              "      <td>0.075316</td>\n",
              "      <td>0.052711</td>\n",
              "      <td>-0.023211</td>\n",
              "    </tr>\n",
              "    <tr>\n",
              "      <th>hour_Process</th>\n",
              "      <td>0.062827</td>\n",
              "      <td>0.042255</td>\n",
              "      <td>0.003018</td>\n",
              "      <td>0.000966</td>\n",
              "      <td>-0.002344</td>\n",
              "      <td>-0.011311</td>\n",
              "      <td>-0.221483</td>\n",
              "      <td>-0.076291</td>\n",
              "      <td>1.000000</td>\n",
              "      <td>-0.011362</td>\n",
              "      <td>-0.010945</td>\n",
              "      <td>0.012945</td>\n",
              "      <td>-0.019775</td>\n",
              "      <td>-0.007573</td>\n",
              "    </tr>\n",
              "    <tr>\n",
              "      <th>c1_rated</th>\n",
              "      <td>-0.014534</td>\n",
              "      <td>0.005653</td>\n",
              "      <td>-0.001438</td>\n",
              "      <td>0.007187</td>\n",
              "      <td>0.029976</td>\n",
              "      <td>-0.003822</td>\n",
              "      <td>0.000467</td>\n",
              "      <td>0.057166</td>\n",
              "      <td>-0.011362</td>\n",
              "      <td>1.000000</td>\n",
              "      <td>0.883822</td>\n",
              "      <td>0.020344</td>\n",
              "      <td>-0.021153</td>\n",
              "      <td>-0.013626</td>\n",
              "    </tr>\n",
              "    <tr>\n",
              "      <th>c2_rated</th>\n",
              "      <td>-0.014041</td>\n",
              "      <td>0.005408</td>\n",
              "      <td>-0.003249</td>\n",
              "      <td>0.008106</td>\n",
              "      <td>0.031694</td>\n",
              "      <td>-0.003186</td>\n",
              "      <td>0.001606</td>\n",
              "      <td>0.058673</td>\n",
              "      <td>-0.010945</td>\n",
              "      <td>0.883822</td>\n",
              "      <td>1.000000</td>\n",
              "      <td>0.020045</td>\n",
              "      <td>-0.021792</td>\n",
              "      <td>-0.013526</td>\n",
              "    </tr>\n",
              "    <tr>\n",
              "      <th>Contact_age</th>\n",
              "      <td>0.032155</td>\n",
              "      <td>0.061324</td>\n",
              "      <td>-0.002945</td>\n",
              "      <td>-0.005260</td>\n",
              "      <td>0.119263</td>\n",
              "      <td>0.026091</td>\n",
              "      <td>-0.022940</td>\n",
              "      <td>0.075316</td>\n",
              "      <td>0.012945</td>\n",
              "      <td>0.020344</td>\n",
              "      <td>0.020045</td>\n",
              "      <td>1.000000</td>\n",
              "      <td>0.076084</td>\n",
              "      <td>-0.013979</td>\n",
              "    </tr>\n",
              "    <tr>\n",
              "      <th>Product_bought</th>\n",
              "      <td>0.017947</td>\n",
              "      <td>-0.029405</td>\n",
              "      <td>0.000274</td>\n",
              "      <td>0.029511</td>\n",
              "      <td>-0.005627</td>\n",
              "      <td>-0.017262</td>\n",
              "      <td>0.006053</td>\n",
              "      <td>0.052711</td>\n",
              "      <td>-0.019775</td>\n",
              "      <td>-0.021153</td>\n",
              "      <td>-0.021792</td>\n",
              "      <td>0.076084</td>\n",
              "      <td>1.000000</td>\n",
              "      <td>0.006387</td>\n",
              "    </tr>\n",
              "    <tr>\n",
              "      <th>Default</th>\n",
              "      <td>-0.001317</td>\n",
              "      <td>-0.008946</td>\n",
              "      <td>0.000969</td>\n",
              "      <td>-0.003978</td>\n",
              "      <td>-0.019105</td>\n",
              "      <td>0.002355</td>\n",
              "      <td>0.014712</td>\n",
              "      <td>-0.023211</td>\n",
              "      <td>-0.007573</td>\n",
              "      <td>-0.013626</td>\n",
              "      <td>-0.013526</td>\n",
              "      <td>-0.013979</td>\n",
              "      <td>0.006387</td>\n",
              "      <td>1.000000</td>\n",
              "    </tr>\n",
              "  </tbody>\n",
              "</table>\n",
              "</div>\n",
              "      <button class=\"colab-df-convert\" onclick=\"convertToInteractive('df-bae53413-41f4-46b3-b7cf-10f287a4b542')\"\n",
              "              title=\"Convert this dataframe to an interactive table.\"\n",
              "              style=\"display:none;\">\n",
              "        \n",
              "  <svg xmlns=\"http://www.w3.org/2000/svg\" height=\"24px\"viewBox=\"0 0 24 24\"\n",
              "       width=\"24px\">\n",
              "    <path d=\"M0 0h24v24H0V0z\" fill=\"none\"/>\n",
              "    <path d=\"M18.56 5.44l.94 2.06.94-2.06 2.06-.94-2.06-.94-.94-2.06-.94 2.06-2.06.94zm-11 1L8.5 8.5l.94-2.06 2.06-.94-2.06-.94L8.5 2.5l-.94 2.06-2.06.94zm10 10l.94 2.06.94-2.06 2.06-.94-2.06-.94-.94-2.06-.94 2.06-2.06.94z\"/><path d=\"M17.41 7.96l-1.37-1.37c-.4-.4-.92-.59-1.43-.59-.52 0-1.04.2-1.43.59L10.3 9.45l-7.72 7.72c-.78.78-.78 2.05 0 2.83L4 21.41c.39.39.9.59 1.41.59.51 0 1.02-.2 1.41-.59l7.78-7.78 2.81-2.81c.8-.78.8-2.07 0-2.86zM5.41 20L4 18.59l7.72-7.72 1.47 1.35L5.41 20z\"/>\n",
              "  </svg>\n",
              "      </button>\n",
              "      \n",
              "  <style>\n",
              "    .colab-df-container {\n",
              "      display:flex;\n",
              "      flex-wrap:wrap;\n",
              "      gap: 12px;\n",
              "    }\n",
              "\n",
              "    .colab-df-convert {\n",
              "      background-color: #E8F0FE;\n",
              "      border: none;\n",
              "      border-radius: 50%;\n",
              "      cursor: pointer;\n",
              "      display: none;\n",
              "      fill: #1967D2;\n",
              "      height: 32px;\n",
              "      padding: 0 0 0 0;\n",
              "      width: 32px;\n",
              "    }\n",
              "\n",
              "    .colab-df-convert:hover {\n",
              "      background-color: #E2EBFA;\n",
              "      box-shadow: 0px 1px 2px rgba(60, 64, 67, 0.3), 0px 1px 3px 1px rgba(60, 64, 67, 0.15);\n",
              "      fill: #174EA6;\n",
              "    }\n",
              "\n",
              "    [theme=dark] .colab-df-convert {\n",
              "      background-color: #3B4455;\n",
              "      fill: #D2E3FC;\n",
              "    }\n",
              "\n",
              "    [theme=dark] .colab-df-convert:hover {\n",
              "      background-color: #434B5C;\n",
              "      box-shadow: 0px 1px 3px 1px rgba(0, 0, 0, 0.15);\n",
              "      filter: drop-shadow(0px 1px 2px rgba(0, 0, 0, 0.3));\n",
              "      fill: #FFFFFF;\n",
              "    }\n",
              "  </style>\n",
              "\n",
              "      <script>\n",
              "        const buttonEl =\n",
              "          document.querySelector('#df-bae53413-41f4-46b3-b7cf-10f287a4b542 button.colab-df-convert');\n",
              "        buttonEl.style.display =\n",
              "          google.colab.kernel.accessAllowed ? 'block' : 'none';\n",
              "\n",
              "        async function convertToInteractive(key) {\n",
              "          const element = document.querySelector('#df-bae53413-41f4-46b3-b7cf-10f287a4b542');\n",
              "          const dataTable =\n",
              "            await google.colab.kernel.invokeFunction('convertToInteractive',\n",
              "                                                     [key], {});\n",
              "          if (!dataTable) return;\n",
              "\n",
              "          const docLinkHtml = 'Like what you see? Visit the ' +\n",
              "            '<a target=\"_blank\" href=https://colab.research.google.com/notebooks/data_table.ipynb>data table notebook</a>'\n",
              "            + ' to learn more about interactive tables.';\n",
              "          element.innerHTML = '';\n",
              "          dataTable['output_type'] = 'display_data';\n",
              "          await google.colab.output.renderOutput(dataTable, element);\n",
              "          const docLink = document.createElement('div');\n",
              "          docLink.innerHTML = docLinkHtml;\n",
              "          element.appendChild(docLink);\n",
              "        }\n",
              "      </script>\n",
              "    </div>\n",
              "  </div>\n",
              "  "
            ]
          },
          "metadata": {},
          "execution_count": 25
        }
      ]
    },
    {
      "cell_type": "code",
      "source": [
        "# Dropping irrelevant features\n",
        "\n",
        "col_to_drop = ['density_Ind', 'hour_Process', 'Home_Appliances']\n",
        "train_df = drop_col(train,col_to_drop)\n",
        "test_df = drop_col(test,col_to_drop)"
      ],
      "metadata": {
        "id": "FzLwoKz4ApJh"
      },
      "execution_count": null,
      "outputs": []
    },
    {
      "cell_type": "code",
      "source": [
        "train.shape"
      ],
      "metadata": {
        "colab": {
          "base_uri": "https://localhost:8080/"
        },
        "id": "O45qajynCPBm",
        "outputId": "4f10d974-e602-4534-f0eb-c322d7e95248"
      },
      "execution_count": null,
      "outputs": [
        {
          "output_type": "execute_result",
          "data": {
            "text/plain": [
              "(132440, 24)"
            ]
          },
          "metadata": {},
          "execution_count": 27
        }
      ]
    },
    {
      "cell_type": "markdown",
      "source": [
        "## Exploratary Data Analysis"
      ],
      "metadata": {
        "id": "zDuSSFVmYS_0"
      }
    },
    {
      "cell_type": "code",
      "source": [
        "# Function to identify numeric features\n",
        "def numeric_features(dataset):\n",
        "    numeric_col = dataset.select_dtypes(include=['number']).columns\n",
        "    return numeric_col\n",
        "\n",
        "\n",
        "numeric_columns = numeric_features(train)\n",
        "print(\"Numeric Features: \\n {}\".format(numeric_columns))\n",
        "print(\"====\"*20)\n",
        "\n",
        "# Function to identify categorical features\n",
        "def categorical_features(dataset):\n",
        "    categorical_col = dataset.select_dtypes(exclude=['number']).columns\n",
        "    return categorical_col\n",
        "\n",
        "categorical_columns = categorical_features(train)\n",
        "print(\"Categorical Features: \\n {}\".format(categorical_columns))"
      ],
      "metadata": {
        "colab": {
          "base_uri": "https://localhost:8080/"
        },
        "id": "iQcloqclCRMO",
        "outputId": "2fb6b4f2-b26f-4f09-c9a7-328865a1a1fb"
      },
      "execution_count": null,
      "outputs": [
        {
          "output_type": "stream",
          "name": "stdout",
          "text": [
            "Numeric Features: \n",
            " Index(['Compensation', 'Loan_amt', 'Experience', 'Dependents',\n",
            "       'Company_Rating', 'Age', 'c1_rated', 'c2_rated', 'Contact_age',\n",
            "       'Product_bought', 'Default'],\n",
            "      dtype='object')\n",
            "================================================================================\n",
            "Categorical Features: \n",
            " Index(['Vehicle_Status', 'Job_Type', 'Default_hist', 'Prop_List',\n",
            "       'Region_Type', 'Credit_Inq', 'Education_det', 'Marital_Stat', 'Gen',\n",
            "       'Credit_Lnks', 'Income_Alt', 'Type_Loan', 'Addr_permanent'],\n",
            "      dtype='object')\n"
          ]
        }
      ]
    },
    {
      "cell_type": "code",
      "source": [
        "numeric_columns =['Compensation', 'Loan_amt', 'Experience', 'Company_Rating', 'Age',\n",
        "       'c1_rated', 'c2_rated', 'Contact_age', 'Product_bought', 'Default', 'Dependents']\n",
        "\n",
        "categorical_columns = ['Vehicle_Status', 'Job_Type', 'Default_hist', 'Prop_List',\n",
        "       'Region_Type', 'Credit_Inq', 'Education_det', 'Marital_Stat', 'Gen',\n",
        "       'Credit_Lnks', 'Income_Alt', 'Type_Loan', 'Addr_permanent',]"
      ],
      "metadata": {
        "id": "WKaHwWj2EaDU"
      },
      "execution_count": null,
      "outputs": []
    },
    {
      "cell_type": "code",
      "source": [
        "# Function to perform univariate analysis of categorical columns\n",
        "def plot_categorical_columns(dataframe, categorical_columns):\n",
        "    dataframe = dataframe[categorical_columns]\n",
        "    for i in dataframe:\n",
        "        plt.title(i)\n",
        "        dataframe[i].value_counts(normalize=True).plot(kind='bar')\n",
        "        plt.show()\n",
        "        \n",
        "plot = plot_categorical_columns(train, categorical_columns)"
      ],
      "metadata": {
        "colab": {
          "base_uri": "https://localhost:8080/",
          "height": 1000
        },
        "id": "mBtrB1MlFfPt",
        "outputId": "796b6ff1-c566-4a76-da0d-d64480229a5b"
      },
      "execution_count": null,
      "outputs": [
        {
          "output_type": "display_data",
          "data": {
            "text/plain": [
              "<Figure size 432x288 with 1 Axes>"
            ],
            "image/png": "[encoded data removed]"
          },
          "metadata": {
            "needs_background": "light"
          }
        },
        {
          "output_type": "display_data",
          "data": {
            "text/plain": [
              "<Figure size 432x288 with 1 Axes>"
            ],
            "image/png": "[encoded data removed]"
          },
          "metadata": {
            "needs_background": "light"
          }
        },
        {
          "output_type": "display_data",
          "data": {
            "text/plain": [
              "<Figure size 432x288 with 1 Axes>"
            ],
            "image/png": "[encoded data removed]"
          },
          "metadata": {
            "needs_background": "light"
          }
        },
        {
          "output_type": "display_data",
          "data": {
            "text/plain": [
              "<Figure size 432x288 with 1 Axes>"
            ],
            "image/png": "[encoded data removed]"
          },
          "metadata": {
            "needs_background": "light"
          }
        },
        {
          "output_type": "display_data",
          "data": {
            "text/plain": [
              "<Figure size 432x288 with 1 Axes>"
            ],
            "image/png": "[encoded data removed]"
          },
          "metadata": {
            "needs_background": "light"
          }
        },
        {
          "output_type": "display_data",
          "data": {
            "text/plain": [
              "<Figure size 432x288 with 1 Axes>"
            ],
            "image/png": "[encoded data removed]"
          },
          "metadata": {
            "needs_background": "light"
          }
        },
        {
          "output_type": "display_data",
          "data": {
            "text/plain": [
              "<Figure size 432x288 with 1 Axes>"
            ],
            "image/png": "[encoded data removed]"
          },
          "metadata": {
            "needs_background": "light"
          }
        },
        {
          "output_type": "display_data",
          "data": {
            "text/plain": [
              "<Figure size 432x288 with 1 Axes>"
            ],
            "image/png": "[encoded data removed]"
          },
          "metadata": {
            "needs_background": "light"
          }
        },
        {
          "output_type": "display_data",
          "data": {
            "text/plain": [
              "<Figure size 432x288 with 1 Axes>"
            ],
            "image/png": "[encoded data removed]"
          },
          "metadata": {
            "needs_background": "light"
          }
        },
        {
          "output_type": "display_data",
          "data": {
            "text/plain": [
              "<Figure size 432x288 with 1 Axes>"
            ],
            "image/png": "[encoded data removed]"
          },
          "metadata": {
            "needs_background": "light"
          }
        },
        {
          "output_type": "display_data",
          "data": {
            "text/plain": [
              "<Figure size 432x288 with 1 Axes>"
            ],
            "image/png": "[encoded data removed]"
          },
          "metadata": {
            "needs_background": "light"
          }
        },
        {
          "output_type": "display_data",
          "data": {
            "text/plain": [
              "<Figure size 432x288 with 1 Axes>"
            ],
            "image/png": "[encoded data removed]"
          },
          "metadata": {
            "needs_background": "light"
          }
        },
        {
          "output_type": "display_data",
          "data": {
            "text/plain": [
              "<Figure size 432x288 with 1 Axes>"
            ],
            "image/png": "[encoded data removed]"
          },
          "metadata": {
            "needs_background": "light"
          }
        }
      ]
    },
    {
      "cell_type": "code",
      "source": [
        "def bivariate_analysis_categorical(dataframe,target, categorical_columns):\n",
        "    cols = list(dataframe)\n",
        "    for col in cols:\n",
        "        if col in categorical_columns:\n",
        "            sns.countplot(x=dataframe[col],hue=target,data=dataframe)\n",
        "            plt.xticks(rotation='vertical')\n",
        "            plt.show()\n",
        "bivariate_analysis_categorical(train,train['Default'], categorical_columns)"
      ],
      "metadata": {
        "colab": {
          "base_uri": "https://localhost:8080/",
          "height": 1000
        },
        "id": "cEZdCSpxGsrR",
        "outputId": "67864982-841d-49c1-fdbe-2c8aa9ffce58"
      },
      "execution_count": null,
      "outputs": [
        {
          "output_type": "display_data",
          "data": {
            "text/plain": [
              "<Figure size 432x288 with 1 Axes>"
            ],
            "image/png": "[encoded data removed]"
          },
          "metadata": {
            "needs_background": "light"
          }
        },
        {
          "output_type": "display_data",
          "data": {
            "text/plain": [
              "<Figure size 432x288 with 1 Axes>"
            ],
            "image/png": "[encoded data removed]"
          },
          "metadata": {
            "needs_background": "light"
          }
        },
        {
          "output_type": "display_data",
          "data": {
            "text/plain": [
              "<Figure size 432x288 with 1 Axes>"
            ],
            "image/png": "[encoded data removed]"
          },
          "metadata": {
            "needs_background": "light"
          }
        },
        {
          "output_type": "display_data",
          "data": {
            "text/plain": [
              "<Figure size 432x288 with 1 Axes>"
            ],
            "image/png": "[encoded data removed]"
          },
          "metadata": {
            "needs_background": "light"
          }
        },
        {
          "output_type": "display_data",
          "data": {
            "text/plain": [
              "<Figure size 432x288 with 1 Axes>"
            ],
            "image/png": "[encoded data removed]"
          },
          "metadata": {
            "needs_background": "light"
          }
        },
        {
          "output_type": "display_data",
          "data": {
            "text/plain": [
              "<Figure size 432x288 with 1 Axes>"
            ],
            "image/png": "[encoded data removed]"
          },
          "metadata": {
            "needs_background": "light"
          }
        },
        {
          "output_type": "display_data",
          "data": {
            "text/plain": [
              "<Figure size 432x288 with 1 Axes>"
            ],
            "image/png": "[encoded data removed]"
          },
          "metadata": {
            "needs_background": "light"
          }
        },
        {
          "output_type": "display_data",
          "data": {
            "text/plain": [
              "<Figure size 432x288 with 1 Axes>"
            ],
            "image/png": "[encoded data removed]"
          },
          "metadata": {
            "needs_background": "light"
          }
        },
        {
          "output_type": "display_data",
          "data": {
            "text/plain": [
              "<Figure size 432x288 with 1 Axes>"
            ],
            "image/png": "[encoded data removed]"
          },
          "metadata": {
            "needs_background": "light"
          }
        },
        {
          "output_type": "display_data",
          "data": {
            "text/plain": [
              "<Figure size 432x288 with 1 Axes>"
            ],
            "image/png": "[encoded data removed]"
          },
          "metadata": {
            "needs_background": "light"
          }
        },
        {
          "output_type": "display_data",
          "data": {
            "text/plain": [
              "<Figure size 432x288 with 1 Axes>"
            ],
            "image/png": "[encoded data removed]"
          },
          "metadata": {
            "needs_background": "light"
          }
        },
        {
          "output_type": "display_data",
          "data": {
            "text/plain": [
              "<Figure size 432x288 with 1 Axes>"
            ],
            "image/png": "[encoded data removed]"
          },
          "metadata": {
            "needs_background": "light"
          }
        },
        {
          "output_type": "display_data",
          "data": {
            "text/plain": [
              "<Figure size 432x288 with 1 Axes>"
            ],
            "image/png": "[encoded data removed]"
          },
          "metadata": {
            "needs_background": "light"
          }
        }
      ]
    },
    {
      "cell_type": "code",
      "source": [
        "# Function to plot histograms\n",
        "def plot_continuous_columns(dataframe, numeric_columns):\n",
        "    dataframe = dataframe[numeric_columns]\n",
        "    \n",
        "    for i in range(0,len(numeric_columns),2):\n",
        "        if len(numeric_columns) > i+1:\n",
        "            plt.figure(figsize=(10,4))\n",
        "            plt.subplot(121)\n",
        "            sns.distplot(dataframe[numeric_columns[i]], kde=False)\n",
        "            plt.subplot(122)            \n",
        "            sns.distplot(dataframe[numeric_columns[i+1]], kde=False)\n",
        "            plt.tight_layout()\n",
        "            plt.show()\n",
        "\n",
        "        else:\n",
        "            sns.distplot(dataframe[numeric_columns[i]], kde=False)\n",
        "\n",
        "# Function to plot boxplots\n",
        "def plot_box_plots(dataframe, numeric_columns):\n",
        "    dataframe = dataframe[numeric_columns]\n",
        "    \n",
        "    for i in range(0,len(numeric_columns),2):\n",
        "        if len(numeric_columns) > i+1:\n",
        "            plt.figure(figsize=(10,4))\n",
        "            plt.subplot(121)\n",
        "            sns.boxplot(dataframe[numeric_columns[i]])\n",
        "            plt.subplot(122)            \n",
        "            sns.boxplot(dataframe[numeric_columns[i+1]])\n",
        "            plt.tight_layout()\n",
        "            plt.show()\n",
        "\n",
        "        else:\n",
        "            sns.boxplot(dataframe[numeric_columns[i]])\n",
        "\n",
        "plot_continuous_columns(train, numeric_columns)            \n",
        "plot_box_plots(train, numeric_columns)"
      ],
      "metadata": {
        "colab": {
          "base_uri": "https://localhost:8080/",
          "height": 1000
        },
        "id": "PCAr9jt6HO5J",
        "outputId": "3b3502fa-e473-4e13-e693-88db4cd956fd"
      },
      "execution_count": null,
      "outputs": [
        {
          "output_type": "display_data",
          "data": {
            "text/plain": [
              "<Figure size 720x288 with 2 Axes>"
            ],
            "image/png": "[encoded data removed]"
          },
          "metadata": {
            "needs_background": "light"
          }
        },
        {
          "output_type": "display_data",
          "data": {
            "text/plain": [
              "<Figure size 720x288 with 2 Axes>"
            ],
            "image/png": "[encoded data removed]"
          },
          "metadata": {
            "needs_background": "light"
          }
        },
        {
          "output_type": "display_data",
          "data": {
            "text/plain": [
              "<Figure size 720x288 with 2 Axes>"
            ],
            "image/png": "[encoded data removed]"
          },
          "metadata": {
            "needs_background": "light"
          }
        },
        {
          "output_type": "display_data",
          "data": {
            "text/plain": [
              "<Figure size 720x288 with 2 Axes>"
            ],
            "image/png": "[encoded data removed]"
          },
          "metadata": {
            "needs_background": "light"
          }
        },
        {
          "output_type": "display_data",
          "data": {
            "text/plain": [
              "<Figure size 720x288 with 2 Axes>"
            ],
            "image/png": "[encoded data removed]"
          },
          "metadata": {
            "needs_background": "light"
          }
        },
        {
          "output_type": "display_data",
          "data": {
            "text/plain": [
              "<Figure size 432x288 with 1 Axes>"
            ],
            "image/png": "[encoded data removed]"
          },
          "metadata": {
            "needs_background": "light"
          }
        },
        {
          "output_type": "display_data",
          "data": {
            "text/plain": [
              "<Figure size 720x288 with 2 Axes>"
            ],
            "image/png": "[encoded data removed]"
          },
          "metadata": {
            "needs_background": "light"
          }
        },
        {
          "output_type": "display_data",
          "data": {
            "text/plain": [
              "<Figure size 720x288 with 2 Axes>"
            ],
            "image/png": "[encoded data removed]"
          },
          "metadata": {
            "needs_background": "light"
          }
        },
        {
          "output_type": "display_data",
          "data": {
            "text/plain": [
              "<Figure size 720x288 with 2 Axes>"
            ],
            "image/png": "[encoded data removed]"
          },
          "metadata": {
            "needs_background": "light"
          }
        },
        {
          "output_type": "display_data",
          "data": {
            "text/plain": [
              "<Figure size 720x288 with 2 Axes>"
            ],
            "image/png": "[encoded data removed]"
          },
          "metadata": {
            "needs_background": "light"
          }
        },
        {
          "output_type": "display_data",
          "data": {
            "text/plain": [
              "<Figure size 720x288 with 2 Axes>"
            ],
            "image/png": "[encoded data removed]"
          },
          "metadata": {
            "needs_background": "light"
          }
        },
        {
          "output_type": "display_data",
          "data": {
            "text/plain": [
              "<Figure size 432x288 with 1 Axes>"
            ],
            "image/png": "[encoded data removed]"
          },
          "metadata": {
            "needs_background": "light"
          }
        }
      ]
    },
    {
      "cell_type": "code",
      "source": [
        "# Function to detect outliers in every feature\n",
        "\n",
        "def detect_outliers(dataframe, numeric_columns):\n",
        "    cols = list(dataframe)\n",
        "    \n",
        "    for column in cols:\n",
        "        if column in numeric_columns:\n",
        "            q1 = dataframe[column].quantile(0.25)\n",
        "            q3 = dataframe[column].quantile(0.75)\n",
        "            iqr = q3 - q1\n",
        "            fence_low = q1 - (1.5*iqr)\n",
        "            fence_high = q3 + (1.5*iqr)\n",
        "\n",
        "            print(column + ' ---------', dataframe.loc[(dataframe[column] < fence_low) | (dataframe[column] > fence_high)].shape[0])\n",
        "\n",
        "detect_outliers(train, numeric_columns)"
      ],
      "metadata": {
        "colab": {
          "base_uri": "https://localhost:8080/"
        },
        "id": "jzONFYOqH6y2",
        "outputId": "fd9534f7-59c1-4808-af66-946362445ea2"
      },
      "execution_count": null,
      "outputs": [
        {
          "output_type": "stream",
          "name": "stdout",
          "text": [
            "Compensation --------- 6118\n",
            "Loan_amt --------- 3603\n",
            "Experience --------- 8817\n",
            "Dependents --------- 1760\n",
            "Company_Rating --------- 30744\n",
            "Age --------- 0\n",
            "c1_rated --------- 0\n",
            "c2_rated --------- 0\n",
            "Contact_age --------- 367\n",
            "Product_bought --------- 1468\n",
            "Default --------- 0\n"
          ]
        }
      ]
    },
    {
      "cell_type": "code",
      "source": [
        "# Outlier treatment using Winsorization\n",
        "\n",
        "from scipy.stats.mstats import winsorize\n",
        "def treat_outliers(dataframe, numeric_columns):\n",
        "    cols = list(dataframe)\n",
        "    for col in cols:\n",
        "        if col in numeric_columns:\n",
        "            dataframe[col] = winsorize(dataframe[col], limits=[0.05, 0.1],inclusive=(True, True))\n",
        "    \n",
        "    return dataframe    \n",
        "\n",
        "\n",
        "train = treat_outliers(train, numeric_columns)\n",
        "print(detect_outliers(train, numeric_columns))"
      ],
      "metadata": {
        "colab": {
          "base_uri": "https://localhost:8080/"
        },
        "id": "ZPcsIHBkIcI3",
        "outputId": "7a756092-f096-4d7b-e36c-472deeaeb975"
      },
      "execution_count": null,
      "outputs": [
        {
          "output_type": "stream",
          "name": "stdout",
          "text": [
            "Compensation --------- 0\n",
            "Loan_amt --------- 0\n",
            "Experience --------- 0\n",
            "Dependents --------- 0\n",
            "Company_Rating --------- 30744\n",
            "Age --------- 0\n",
            "c1_rated --------- 0\n",
            "c2_rated --------- 0\n",
            "Contact_age --------- 0\n",
            "Product_bought --------- 0\n",
            "Default --------- 0\n",
            "None\n"
          ]
        }
      ]
    },
    {
      "cell_type": "code",
      "source": [
        "#correlation heatmap of dataset\n",
        "\n",
        "def correlation_heatmap(df):\n",
        "    _ , ax = plt.subplots(figsize =(14, 12))\n",
        "    colormap = sns.diverging_palette(220, 10, as_cmap = True)\n",
        "    \n",
        "    _ = sns.heatmap(\n",
        "        df.corr().abs(), \n",
        "        cmap = 'viridis',\n",
        "        square=True, \n",
        "        cbar_kws={'shrink':.9 }, \n",
        "        ax=ax,\n",
        "        annot=True, \n",
        "        linewidths=0.1,vmax=1.0, linecolor='white',\n",
        "        annot_kws={'fontsize':12 }\n",
        "    )\n",
        "    \n",
        "    plt.title('Pearson Correlation of Features', y=1.05, size=15)\n",
        "    \n",
        "    correlation = df.corr().unstack().sort_values(kind='quicksort')\n",
        "    print('Highly Correlated Variables')\n",
        "    return correlation[((correlation>=0.75) | (correlation<=-0.75)) & (correlation!=1)]\n",
        "\n",
        "correlation_heatmap(train[numeric_columns])"
      ],
      "metadata": {
        "colab": {
          "base_uri": "https://localhost:8080/",
          "height": 834
        },
        "id": "xPwpJlL5Ixrt",
        "outputId": "847a7c63-fd7d-47b0-c79c-99b4cb38934f"
      },
      "execution_count": null,
      "outputs": [
        {
          "output_type": "stream",
          "name": "stdout",
          "text": [
            "Highly Correlated Variables\n"
          ]
        },
        {
          "output_type": "execute_result",
          "data": {
            "text/plain": [
              "c2_rated  c1_rated    0.883825\n",
              "c1_rated  c2_rated    0.883825\n",
              "dtype: float64"
            ]
          },
          "metadata": {},
          "execution_count": 35
        },
        {
          "output_type": "display_data",
          "data": {
            "text/plain": [
              "<Figure size 1008x864 with 2 Axes>"
            ],
            "image/png": "[encoded data removed]"
          },
          "metadata": {
            "needs_background": "light"
          }
        }
      ]
    },
    {
      "cell_type": "code",
      "source": [
        "# c1_rated and c2rated variables are highly corelated, therefore droping one varibale from them\n",
        "\n",
        "corr_col_to_drop = ['c2_rated']\n",
        "train_df = drop_col(train_df,corr_col_to_drop)\n",
        "test_df = drop_col(test_df,corr_col_to_drop)"
      ],
      "metadata": {
        "id": "fqsqAsCxJ59R"
      },
      "execution_count": null,
      "outputs": []
    },
    {
      "cell_type": "code",
      "source": [
        "train.head()"
      ],
      "metadata": {
        "colab": {
          "base_uri": "https://localhost:8080/",
          "height": 300
        },
        "id": "2eB_O0x2KPU4",
        "outputId": "c0f13417-cdda-45eb-ff1e-c71a2ba9ad4d"
      },
      "execution_count": null,
      "outputs": [
        {
          "output_type": "execute_result",
          "data": {
            "text/plain": [
              "   Compensation Vehicle_Status  Loan_amt Job_Type Default_hist     Prop_List  \\\n",
              "0      801850.0              Y  658040.0       IT          ndf  Morethan_One   \n",
              "1      884222.0              N  198075.0       IT          ndf  Morethan_One   \n",
              "2      363492.0              N  109130.0    Govt.          ndf           One   \n",
              "3      363492.0              N  179008.0   Non-IT           df          None   \n",
              "4     1127878.0              Y  573715.0   Non-IT          ndf  Morethan_One   \n",
              "\n",
              "  Region_Type Credit_Inq Education_det Marital_Stat  ...     Income_Alt  \\\n",
              "0       Metro          1          Grad      Married  ...  Not_Specified   \n",
              "1       Metro          2          Grad      Married  ...  Not_Specified   \n",
              "2       Metro          3         Other      Married  ...  Not_Specified   \n",
              "3       Metro          1          Grad      Married  ...  Not_Specified   \n",
              "4       Rural          2          Grad      Married  ...              Y   \n",
              "\n",
              "  Type_Loan  Dependents Company_Rating   Age  Addr_permanent  c1_rated  \\\n",
              "0     CLoan         3.0            2.0  46.0             Yes     0.122   \n",
              "1     CLoan         3.0            1.0  46.0             Yes     0.184   \n",
              "2     CLoan         2.0            3.0  57.0             Yes     0.538   \n",
              "3     RLoan         3.0            2.0  39.0             Yes     0.500   \n",
              "4     CLoan         3.0            1.0  32.0             Yes     0.500   \n",
              "\n",
              "   Contact_age Product_bought  Default  \n",
              "0         18.0            2.0      1.0  \n",
              "1        306.0            4.0      0.0  \n",
              "2        281.0            4.0      0.0  \n",
              "3         20.0            4.0      0.0  \n",
              "4       2142.0            6.0      0.0  \n",
              "\n",
              "[5 rows x 23 columns]"
            ],
            "text/html": [
              "\n",
              "  <div id=\"df-213dd204-7e9a-44c9-97aa-2de3a056c829\">\n",
              "    <div class=\"colab-df-container\">\n",
              "      <div>\n",
              "<style scoped>\n",
              "    .dataframe tbody tr th:only-of-type {\n",
              "        vertical-align: middle;\n",
              "    }\n",
              "\n",
              "    .dataframe tbody tr th {\n",
              "        vertical-align: top;\n",
              "    }\n",
              "\n",
              "    .dataframe thead th {\n",
              "        text-align: right;\n",
              "    }\n",
              "</style>\n",
              "<table border=\"1\" class=\"dataframe\">\n",
              "  <thead>\n",
              "    <tr style=\"text-align: right;\">\n",
              "      <th></th>\n",
              "      <th>Compensation</th>\n",
              "      <th>Vehicle_Status</th>\n",
              "      <th>Loan_amt</th>\n",
              "      <th>Job_Type</th>\n",
              "      <th>Default_hist</th>\n",
              "      <th>Prop_List</th>\n",
              "      <th>Region_Type</th>\n",
              "      <th>Credit_Inq</th>\n",
              "      <th>Education_det</th>\n",
              "      <th>Marital_Stat</th>\n",
              "      <th>...</th>\n",
              "      <th>Income_Alt</th>\n",
              "      <th>Type_Loan</th>\n",
              "      <th>Dependents</th>\n",
              "      <th>Company_Rating</th>\n",
              "      <th>Age</th>\n",
              "      <th>Addr_permanent</th>\n",
              "      <th>c1_rated</th>\n",
              "      <th>Contact_age</th>\n",
              "      <th>Product_bought</th>\n",
              "      <th>Default</th>\n",
              "    </tr>\n",
              "  </thead>\n",
              "  <tbody>\n",
              "    <tr>\n",
              "      <th>0</th>\n",
              "      <td>801850.0</td>\n",
              "      <td>Y</td>\n",
              "      <td>658040.0</td>\n",
              "      <td>IT</td>\n",
              "      <td>ndf</td>\n",
              "      <td>Morethan_One</td>\n",
              "      <td>Metro</td>\n",
              "      <td>1</td>\n",
              "      <td>Grad</td>\n",
              "      <td>Married</td>\n",
              "      <td>...</td>\n",
              "      <td>Not_Specified</td>\n",
              "      <td>CLoan</td>\n",
              "      <td>3.0</td>\n",
              "      <td>2.0</td>\n",
              "      <td>46.0</td>\n",
              "      <td>Yes</td>\n",
              "      <td>0.122</td>\n",
              "      <td>18.0</td>\n",
              "      <td>2.0</td>\n",
              "      <td>1.0</td>\n",
              "    </tr>\n",
              "    <tr>\n",
              "      <th>1</th>\n",
              "      <td>884222.0</td>\n",
              "      <td>N</td>\n",
              "      <td>198075.0</td>\n",
              "      <td>IT</td>\n",
              "      <td>ndf</td>\n",
              "      <td>Morethan_One</td>\n",
              "      <td>Metro</td>\n",
              "      <td>2</td>\n",
              "      <td>Grad</td>\n",
              "      <td>Married</td>\n",
              "      <td>...</td>\n",
              "      <td>Not_Specified</td>\n",
              "      <td>CLoan</td>\n",
              "      <td>3.0</td>\n",
              "      <td>1.0</td>\n",
              "      <td>46.0</td>\n",
              "      <td>Yes</td>\n",
              "      <td>0.184</td>\n",
              "      <td>306.0</td>\n",
              "      <td>4.0</td>\n",
              "      <td>0.0</td>\n",
              "    </tr>\n",
              "    <tr>\n",
              "      <th>2</th>\n",
              "      <td>363492.0</td>\n",
              "      <td>N</td>\n",
              "      <td>109130.0</td>\n",
              "      <td>Govt.</td>\n",
              "      <td>ndf</td>\n",
              "      <td>One</td>\n",
              "      <td>Metro</td>\n",
              "      <td>3</td>\n",
              "      <td>Other</td>\n",
              "      <td>Married</td>\n",
              "      <td>...</td>\n",
              "      <td>Not_Specified</td>\n",
              "      <td>CLoan</td>\n",
              "      <td>2.0</td>\n",
              "      <td>3.0</td>\n",
              "      <td>57.0</td>\n",
              "      <td>Yes</td>\n",
              "      <td>0.538</td>\n",
              "      <td>281.0</td>\n",
              "      <td>4.0</td>\n",
              "      <td>0.0</td>\n",
              "    </tr>\n",
              "    <tr>\n",
              "      <th>3</th>\n",
              "      <td>363492.0</td>\n",
              "      <td>N</td>\n",
              "      <td>179008.0</td>\n",
              "      <td>Non-IT</td>\n",
              "      <td>df</td>\n",
              "      <td>None</td>\n",
              "      <td>Metro</td>\n",
              "      <td>1</td>\n",
              "      <td>Grad</td>\n",
              "      <td>Married</td>\n",
              "      <td>...</td>\n",
              "      <td>Not_Specified</td>\n",
              "      <td>RLoan</td>\n",
              "      <td>3.0</td>\n",
              "      <td>2.0</td>\n",
              "      <td>39.0</td>\n",
              "      <td>Yes</td>\n",
              "      <td>0.500</td>\n",
              "      <td>20.0</td>\n",
              "      <td>4.0</td>\n",
              "      <td>0.0</td>\n",
              "    </tr>\n",
              "    <tr>\n",
              "      <th>4</th>\n",
              "      <td>1127878.0</td>\n",
              "      <td>Y</td>\n",
              "      <td>573715.0</td>\n",
              "      <td>Non-IT</td>\n",
              "      <td>ndf</td>\n",
              "      <td>Morethan_One</td>\n",
              "      <td>Rural</td>\n",
              "      <td>2</td>\n",
              "      <td>Grad</td>\n",
              "      <td>Married</td>\n",
              "      <td>...</td>\n",
              "      <td>Y</td>\n",
              "      <td>CLoan</td>\n",
              "      <td>3.0</td>\n",
              "      <td>1.0</td>\n",
              "      <td>32.0</td>\n",
              "      <td>Yes</td>\n",
              "      <td>0.500</td>\n",
              "      <td>2142.0</td>\n",
              "      <td>6.0</td>\n",
              "      <td>0.0</td>\n",
              "    </tr>\n",
              "  </tbody>\n",
              "</table>\n",
              "<p>5 rows × 23 columns</p>\n",
              "</div>\n",
              "      <button class=\"colab-df-convert\" onclick=\"convertToInteractive('df-213dd204-7e9a-44c9-97aa-2de3a056c829')\"\n",
              "              title=\"Convert this dataframe to an interactive table.\"\n",
              "              style=\"display:none;\">\n",
              "        \n",
              "  <svg xmlns=\"http://www.w3.org/2000/svg\" height=\"24px\"viewBox=\"0 0 24 24\"\n",
              "       width=\"24px\">\n",
              "    <path d=\"M0 0h24v24H0V0z\" fill=\"none\"/>\n",
              "    <path d=\"M18.56 5.44l.94 2.06.94-2.06 2.06-.94-2.06-.94-.94-2.06-.94 2.06-2.06.94zm-11 1L8.5 8.5l.94-2.06 2.06-.94-2.06-.94L8.5 2.5l-.94 2.06-2.06.94zm10 10l.94 2.06.94-2.06 2.06-.94-2.06-.94-.94-2.06-.94 2.06-2.06.94z\"/><path d=\"M17.41 7.96l-1.37-1.37c-.4-.4-.92-.59-1.43-.59-.52 0-1.04.2-1.43.59L10.3 9.45l-7.72 7.72c-.78.78-.78 2.05 0 2.83L4 21.41c.39.39.9.59 1.41.59.51 0 1.02-.2 1.41-.59l7.78-7.78 2.81-2.81c.8-.78.8-2.07 0-2.86zM5.41 20L4 18.59l7.72-7.72 1.47 1.35L5.41 20z\"/>\n",
              "  </svg>\n",
              "      </button>\n",
              "      \n",
              "  <style>\n",
              "    .colab-df-container {\n",
              "      display:flex;\n",
              "      flex-wrap:wrap;\n",
              "      gap: 12px;\n",
              "    }\n",
              "\n",
              "    .colab-df-convert {\n",
              "      background-color: #E8F0FE;\n",
              "      border: none;\n",
              "      border-radius: 50%;\n",
              "      cursor: pointer;\n",
              "      display: none;\n",
              "      fill: #1967D2;\n",
              "      height: 32px;\n",
              "      padding: 0 0 0 0;\n",
              "      width: 32px;\n",
              "    }\n",
              "\n",
              "    .colab-df-convert:hover {\n",
              "      background-color: #E2EBFA;\n",
              "      box-shadow: 0px 1px 2px rgba(60, 64, 67, 0.3), 0px 1px 3px 1px rgba(60, 64, 67, 0.15);\n",
              "      fill: #174EA6;\n",
              "    }\n",
              "\n",
              "    [theme=dark] .colab-df-convert {\n",
              "      background-color: #3B4455;\n",
              "      fill: #D2E3FC;\n",
              "    }\n",
              "\n",
              "    [theme=dark] .colab-df-convert:hover {\n",
              "      background-color: #434B5C;\n",
              "      box-shadow: 0px 1px 3px 1px rgba(0, 0, 0, 0.15);\n",
              "      filter: drop-shadow(0px 1px 2px rgba(0, 0, 0, 0.3));\n",
              "      fill: #FFFFFF;\n",
              "    }\n",
              "  </style>\n",
              "\n",
              "      <script>\n",
              "        const buttonEl =\n",
              "          document.querySelector('#df-213dd204-7e9a-44c9-97aa-2de3a056c829 button.colab-df-convert');\n",
              "        buttonEl.style.display =\n",
              "          google.colab.kernel.accessAllowed ? 'block' : 'none';\n",
              "\n",
              "        async function convertToInteractive(key) {\n",
              "          const element = document.querySelector('#df-213dd204-7e9a-44c9-97aa-2de3a056c829');\n",
              "          const dataTable =\n",
              "            await google.colab.kernel.invokeFunction('convertToInteractive',\n",
              "                                                     [key], {});\n",
              "          if (!dataTable) return;\n",
              "\n",
              "          const docLinkHtml = 'Like what you see? Visit the ' +\n",
              "            '<a target=\"_blank\" href=https://colab.research.google.com/notebooks/data_table.ipynb>data table notebook</a>'\n",
              "            + ' to learn more about interactive tables.';\n",
              "          element.innerHTML = '';\n",
              "          dataTable['output_type'] = 'display_data';\n",
              "          await google.colab.output.renderOutput(dataTable, element);\n",
              "          const docLink = document.createElement('div');\n",
              "          docLink.innerHTML = docLinkHtml;\n",
              "          element.appendChild(docLink);\n",
              "        }\n",
              "      </script>\n",
              "    </div>\n",
              "  </div>\n",
              "  "
            ]
          },
          "metadata": {},
          "execution_count": 37
        }
      ]
    },
    {
      "cell_type": "code",
      "source": [
        "train.columns"
      ],
      "metadata": {
        "colab": {
          "base_uri": "https://localhost:8080/"
        },
        "id": "IUOG63AdzPVj",
        "outputId": "19236f4f-784a-45e6-e4f3-77b5d2650ea8"
      },
      "execution_count": null,
      "outputs": [
        {
          "output_type": "execute_result",
          "data": {
            "text/plain": [
              "Index(['Compensation', 'Vehicle_Status', 'Loan_amt', 'Job_Type',\n",
              "       'Default_hist', 'Prop_List', 'Region_Type', 'Credit_Inq',\n",
              "       'Education_det', 'Marital_Stat', 'Gen', 'Credit_Lnks', 'Experience',\n",
              "       'Income_Alt', 'Type_Loan', 'Dependents', 'Company_Rating', 'Age',\n",
              "       'Addr_permanent', 'c1_rated', 'Contact_age', 'Product_bought',\n",
              "       'Default'],\n",
              "      dtype='object')"
            ]
          },
          "metadata": {},
          "execution_count": 38
        }
      ]
    },
    {
      "cell_type": "code",
      "source": [
        "train['Income_Alt'].unique()"
      ],
      "metadata": {
        "colab": {
          "base_uri": "https://localhost:8080/"
        },
        "id": "U3bK0LzZ6kw5",
        "outputId": "efce30da-13f6-4c2d-aeeb-99f24b4442ad"
      },
      "execution_count": null,
      "outputs": [
        {
          "output_type": "execute_result",
          "data": {
            "text/plain": [
              "array(['Not_Specified', 'Y'], dtype=object)"
            ]
          },
          "metadata": {},
          "execution_count": 39
        }
      ]
    },
    {
      "cell_type": "code",
      "source": [
        "# Encoding the categorical variables\n",
        "\n",
        "replacestruct={'Vehicle_Status':{'Y':1, 'N':0},\n",
        "               'Job_Type':{'Govt.':2,'IT':1, 'Non-IT':0},\n",
        "               'Default_hist':{'df':1, 'ndf':0},\n",
        "               'Prop_List':{'Morethan_One':2,'One':1,'None':0},\n",
        "               'Gen':{'M':1, 'F':0},\n",
        "               'Credit_Lnks':{'>6':2,'4_to_6':1,'1_to_3':0},\n",
        "               'Type_Loan':{'CLoan':1, 'RLoan':0},\n",
        "               'Addr_permanent':{'Yes':1, 'No':0},\n",
        "               \"Region_Type\":{'Metro':2, 'other':1,'Rural':0},\n",
        "               \"Education_det\":{'P_Grad':2,'Grad':1, 'Other':0},\n",
        "               \"Marital_Stat\":{'Married':3, 'Single':2, 'Divorce':1,'Widow':0},\n",
        "               'Income_Alt':{'Not_Specified':0, 'Y':1},\n",
        "               'Credit_Inq':{'>4':4}}"
      ],
      "metadata": {
        "id": "qVDGdnY48Wuj"
      },
      "execution_count": null,
      "outputs": []
    },
    {
      "cell_type": "code",
      "source": [
        "train=train.replace(replacestruct)\n",
        "test=test.replace(replacestruct)"
      ],
      "metadata": {
        "id": "HI6CJEmsBfj2"
      },
      "execution_count": null,
      "outputs": []
    },
    {
      "cell_type": "code",
      "source": [
        "train.head()"
      ],
      "metadata": {
        "colab": {
          "base_uri": "https://localhost:8080/",
          "height": 300
        },
        "id": "pz6a7iiwIAeL",
        "outputId": "8fb5b364-4edb-4904-87cb-5cbae1d5f60e"
      },
      "execution_count": null,
      "outputs": [
        {
          "output_type": "execute_result",
          "data": {
            "text/plain": [
              "   Compensation  Vehicle_Status  Loan_amt  Job_Type  Default_hist  Prop_List  \\\n",
              "0      801850.0               1  658040.0         1             0          2   \n",
              "1      884222.0               0  198075.0         1             0          2   \n",
              "2      363492.0               0  109130.0         2             0          1   \n",
              "3      363492.0               0  179008.0         0             1          0   \n",
              "4     1127878.0               1  573715.0         0             0          2   \n",
              "\n",
              "   Region_Type Credit_Inq  Education_det  Marital_Stat  ...  Income_Alt  \\\n",
              "0            2          1              1             3  ...           0   \n",
              "1            2          2              1             3  ...           0   \n",
              "2            2          3              0             3  ...           0   \n",
              "3            2          1              1             3  ...           0   \n",
              "4            0          2              1             3  ...           1   \n",
              "\n",
              "   Type_Loan  Dependents  Company_Rating   Age  Addr_permanent  c1_rated  \\\n",
              "0          1         3.0             2.0  46.0               1     0.122   \n",
              "1          1         3.0             1.0  46.0               1     0.184   \n",
              "2          1         2.0             3.0  57.0               1     0.538   \n",
              "3          0         3.0             2.0  39.0               1     0.500   \n",
              "4          1         3.0             1.0  32.0               1     0.500   \n",
              "\n",
              "   Contact_age  Product_bought  Default  \n",
              "0         18.0             2.0      1.0  \n",
              "1        306.0             4.0      0.0  \n",
              "2        281.0             4.0      0.0  \n",
              "3         20.0             4.0      0.0  \n",
              "4       2142.0             6.0      0.0  \n",
              "\n",
              "[5 rows x 23 columns]"
            ],
            "text/html": [
              "\n",
              "  <div id=\"df-5329f2ef-2f54-49d9-9c6a-d43f1389d41f\">\n",
              "    <div class=\"colab-df-container\">\n",
              "      <div>\n",
              "<style scoped>\n",
              "    .dataframe tbody tr th:only-of-type {\n",
              "        vertical-align: middle;\n",
              "    }\n",
              "\n",
              "    .dataframe tbody tr th {\n",
              "        vertical-align: top;\n",
              "    }\n",
              "\n",
              "    .dataframe thead th {\n",
              "        text-align: right;\n",
              "    }\n",
              "</style>\n",
              "<table border=\"1\" class=\"dataframe\">\n",
              "  <thead>\n",
              "    <tr style=\"text-align: right;\">\n",
              "      <th></th>\n",
              "      <th>Compensation</th>\n",
              "      <th>Vehicle_Status</th>\n",
              "      <th>Loan_amt</th>\n",
              "      <th>Job_Type</th>\n",
              "      <th>Default_hist</th>\n",
              "      <th>Prop_List</th>\n",
              "      <th>Region_Type</th>\n",
              "      <th>Credit_Inq</th>\n",
              "      <th>Education_det</th>\n",
              "      <th>Marital_Stat</th>\n",
              "      <th>...</th>\n",
              "      <th>Income_Alt</th>\n",
              "      <th>Type_Loan</th>\n",
              "      <th>Dependents</th>\n",
              "      <th>Company_Rating</th>\n",
              "      <th>Age</th>\n",
              "      <th>Addr_permanent</th>\n",
              "      <th>c1_rated</th>\n",
              "      <th>Contact_age</th>\n",
              "      <th>Product_bought</th>\n",
              "      <th>Default</th>\n",
              "    </tr>\n",
              "  </thead>\n",
              "  <tbody>\n",
              "    <tr>\n",
              "      <th>0</th>\n",
              "      <td>801850.0</td>\n",
              "      <td>1</td>\n",
              "      <td>658040.0</td>\n",
              "      <td>1</td>\n",
              "      <td>0</td>\n",
              "      <td>2</td>\n",
              "      <td>2</td>\n",
              "      <td>1</td>\n",
              "      <td>1</td>\n",
              "      <td>3</td>\n",
              "      <td>...</td>\n",
              "      <td>0</td>\n",
              "      <td>1</td>\n",
              "      <td>3.0</td>\n",
              "      <td>2.0</td>\n",
              "      <td>46.0</td>\n",
              "      <td>1</td>\n",
              "      <td>0.122</td>\n",
              "      <td>18.0</td>\n",
              "      <td>2.0</td>\n",
              "      <td>1.0</td>\n",
              "    </tr>\n",
              "    <tr>\n",
              "      <th>1</th>\n",
              "      <td>884222.0</td>\n",
              "      <td>0</td>\n",
              "      <td>198075.0</td>\n",
              "      <td>1</td>\n",
              "      <td>0</td>\n",
              "      <td>2</td>\n",
              "      <td>2</td>\n",
              "      <td>2</td>\n",
              "      <td>1</td>\n",
              "      <td>3</td>\n",
              "      <td>...</td>\n",
              "      <td>0</td>\n",
              "      <td>1</td>\n",
              "      <td>3.0</td>\n",
              "      <td>1.0</td>\n",
              "      <td>46.0</td>\n",
              "      <td>1</td>\n",
              "      <td>0.184</td>\n",
              "      <td>306.0</td>\n",
              "      <td>4.0</td>\n",
              "      <td>0.0</td>\n",
              "    </tr>\n",
              "    <tr>\n",
              "      <th>2</th>\n",
              "      <td>363492.0</td>\n",
              "      <td>0</td>\n",
              "      <td>109130.0</td>\n",
              "      <td>2</td>\n",
              "      <td>0</td>\n",
              "      <td>1</td>\n",
              "      <td>2</td>\n",
              "      <td>3</td>\n",
              "      <td>0</td>\n",
              "      <td>3</td>\n",
              "      <td>...</td>\n",
              "      <td>0</td>\n",
              "      <td>1</td>\n",
              "      <td>2.0</td>\n",
              "      <td>3.0</td>\n",
              "      <td>57.0</td>\n",
              "      <td>1</td>\n",
              "      <td>0.538</td>\n",
              "      <td>281.0</td>\n",
              "      <td>4.0</td>\n",
              "      <td>0.0</td>\n",
              "    </tr>\n",
              "    <tr>\n",
              "      <th>3</th>\n",
              "      <td>363492.0</td>\n",
              "      <td>0</td>\n",
              "      <td>179008.0</td>\n",
              "      <td>0</td>\n",
              "      <td>1</td>\n",
              "      <td>0</td>\n",
              "      <td>2</td>\n",
              "      <td>1</td>\n",
              "      <td>1</td>\n",
              "      <td>3</td>\n",
              "      <td>...</td>\n",
              "      <td>0</td>\n",
              "      <td>0</td>\n",
              "      <td>3.0</td>\n",
              "      <td>2.0</td>\n",
              "      <td>39.0</td>\n",
              "      <td>1</td>\n",
              "      <td>0.500</td>\n",
              "      <td>20.0</td>\n",
              "      <td>4.0</td>\n",
              "      <td>0.0</td>\n",
              "    </tr>\n",
              "    <tr>\n",
              "      <th>4</th>\n",
              "      <td>1127878.0</td>\n",
              "      <td>1</td>\n",
              "      <td>573715.0</td>\n",
              "      <td>0</td>\n",
              "      <td>0</td>\n",
              "      <td>2</td>\n",
              "      <td>0</td>\n",
              "      <td>2</td>\n",
              "      <td>1</td>\n",
              "      <td>3</td>\n",
              "      <td>...</td>\n",
              "      <td>1</td>\n",
              "      <td>1</td>\n",
              "      <td>3.0</td>\n",
              "      <td>1.0</td>\n",
              "      <td>32.0</td>\n",
              "      <td>1</td>\n",
              "      <td>0.500</td>\n",
              "      <td>2142.0</td>\n",
              "      <td>6.0</td>\n",
              "      <td>0.0</td>\n",
              "    </tr>\n",
              "  </tbody>\n",
              "</table>\n",
              "<p>5 rows × 23 columns</p>\n",
              "</div>\n",
              "      <button class=\"colab-df-convert\" onclick=\"convertToInteractive('df-5329f2ef-2f54-49d9-9c6a-d43f1389d41f')\"\n",
              "              title=\"Convert this dataframe to an interactive table.\"\n",
              "              style=\"display:none;\">\n",
              "        \n",
              "  <svg xmlns=\"http://www.w3.org/2000/svg\" height=\"24px\"viewBox=\"0 0 24 24\"\n",
              "       width=\"24px\">\n",
              "    <path d=\"M0 0h24v24H0V0z\" fill=\"none\"/>\n",
              "    <path d=\"M18.56 5.44l.94 2.06.94-2.06 2.06-.94-2.06-.94-.94-2.06-.94 2.06-2.06.94zm-11 1L8.5 8.5l.94-2.06 2.06-.94-2.06-.94L8.5 2.5l-.94 2.06-2.06.94zm10 10l.94 2.06.94-2.06 2.06-.94-2.06-.94-.94-2.06-.94 2.06-2.06.94z\"/><path d=\"M17.41 7.96l-1.37-1.37c-.4-.4-.92-.59-1.43-.59-.52 0-1.04.2-1.43.59L10.3 9.45l-7.72 7.72c-.78.78-.78 2.05 0 2.83L4 21.41c.39.39.9.59 1.41.59.51 0 1.02-.2 1.41-.59l7.78-7.78 2.81-2.81c.8-.78.8-2.07 0-2.86zM5.41 20L4 18.59l7.72-7.72 1.47 1.35L5.41 20z\"/>\n",
              "  </svg>\n",
              "      </button>\n",
              "      \n",
              "  <style>\n",
              "    .colab-df-container {\n",
              "      display:flex;\n",
              "      flex-wrap:wrap;\n",
              "      gap: 12px;\n",
              "    }\n",
              "\n",
              "    .colab-df-convert {\n",
              "      background-color: #E8F0FE;\n",
              "      border: none;\n",
              "      border-radius: 50%;\n",
              "      cursor: pointer;\n",
              "      display: none;\n",
              "      fill: #1967D2;\n",
              "      height: 32px;\n",
              "      padding: 0 0 0 0;\n",
              "      width: 32px;\n",
              "    }\n",
              "\n",
              "    .colab-df-convert:hover {\n",
              "      background-color: #E2EBFA;\n",
              "      box-shadow: 0px 1px 2px rgba(60, 64, 67, 0.3), 0px 1px 3px 1px rgba(60, 64, 67, 0.15);\n",
              "      fill: #174EA6;\n",
              "    }\n",
              "\n",
              "    [theme=dark] .colab-df-convert {\n",
              "      background-color: #3B4455;\n",
              "      fill: #D2E3FC;\n",
              "    }\n",
              "\n",
              "    [theme=dark] .colab-df-convert:hover {\n",
              "      background-color: #434B5C;\n",
              "      box-shadow: 0px 1px 3px 1px rgba(0, 0, 0, 0.15);\n",
              "      filter: drop-shadow(0px 1px 2px rgba(0, 0, 0, 0.3));\n",
              "      fill: #FFFFFF;\n",
              "    }\n",
              "  </style>\n",
              "\n",
              "      <script>\n",
              "        const buttonEl =\n",
              "          document.querySelector('#df-5329f2ef-2f54-49d9-9c6a-d43f1389d41f button.colab-df-convert');\n",
              "        buttonEl.style.display =\n",
              "          google.colab.kernel.accessAllowed ? 'block' : 'none';\n",
              "\n",
              "        async function convertToInteractive(key) {\n",
              "          const element = document.querySelector('#df-5329f2ef-2f54-49d9-9c6a-d43f1389d41f');\n",
              "          const dataTable =\n",
              "            await google.colab.kernel.invokeFunction('convertToInteractive',\n",
              "                                                     [key], {});\n",
              "          if (!dataTable) return;\n",
              "\n",
              "          const docLinkHtml = 'Like what you see? Visit the ' +\n",
              "            '<a target=\"_blank\" href=https://colab.research.google.com/notebooks/data_table.ipynb>data table notebook</a>'\n",
              "            + ' to learn more about interactive tables.';\n",
              "          element.innerHTML = '';\n",
              "          dataTable['output_type'] = 'display_data';\n",
              "          await google.colab.output.renderOutput(dataTable, element);\n",
              "          const docLink = document.createElement('div');\n",
              "          docLink.innerHTML = docLinkHtml;\n",
              "          element.appendChild(docLink);\n",
              "        }\n",
              "      </script>\n",
              "    </div>\n",
              "  </div>\n",
              "  "
            ]
          },
          "metadata": {},
          "execution_count": 42
        }
      ]
    },
    {
      "cell_type": "markdown",
      "source": [
        "## Baseline model building & Feature engineering"
      ],
      "metadata": {
        "id": "XvfQVxeBVPr4"
      }
    },
    {
      "cell_type": "markdown",
      "source": [
        "####**Applying Baseline model.**\n",
        "Initially we will create baseline model, where we will split the dataset into independent and dependent variables. \n",
        "\n"
      ],
      "metadata": {
        "id": "HXOt3D6MXUaP"
      }
    },
    {
      "cell_type": "markdown",
      "source": [
        "There are many Classification algorithms are present in machine learning, which are used for different classification applications. Some of the main classification algorithms are as follows-\n",
        "\n",
        "1. Logistic Regression\n",
        "\n",
        "2. DecisionTree Classifier\n",
        "\n",
        "3. RandomForest Classfier\n",
        "\n",
        "4. XGBClassifier\n",
        "\n",
        "5. GradientBoostingClassifier"
      ],
      "metadata": {
        "id": "OkTjV8-bXjkx"
      }
    },
    {
      "cell_type": "code",
      "source": [
        "train_df=train.drop(['Default'], axis=1)\n",
        "y=train['Default']"
      ],
      "metadata": {
        "id": "k5N4eq_MX9Xi"
      },
      "execution_count": null,
      "outputs": []
    },
    {
      "cell_type": "code",
      "source": [
        "train_df['Credit_Inq']=train_df.Credit_Inq.astype('int64')"
      ],
      "metadata": {
        "id": "fic6d7hQf6tQ"
      },
      "execution_count": null,
      "outputs": []
    },
    {
      "cell_type": "code",
      "source": [
        "# Scale the data\n",
        "\n",
        "from sklearn.preprocessing import StandardScaler\n",
        "sc=StandardScaler()\n",
        "\n",
        "train_df=sc.fit_transform(train_df)\n",
        "test=sc.fit_transform(test)"
      ],
      "metadata": {
        "id": "fmg-v0GTbDk3"
      },
      "execution_count": null,
      "outputs": []
    },
    {
      "cell_type": "code",
      "source": [
        "train_df=pd.DataFrame(train_df)\n",
        "train_df.head()"
      ],
      "metadata": {
        "colab": {
          "base_uri": "https://localhost:8080/",
          "height": 300
        },
        "id": "1-7yU7EqfCLE",
        "outputId": "27725565-4d2a-483e-f2b8-a0b89451ca08"
      },
      "execution_count": null,
      "outputs": [
        {
          "output_type": "execute_result",
          "data": {
            "text/plain": [
              "         0         1         2         3         4         5         6   \\\n",
              "0  0.421226  1.468294  1.215987  0.044084 -0.333697  1.692882  0.473522   \n",
              "1  0.778956 -0.681062 -0.896524  0.044084 -0.333697  1.692882  0.473522   \n",
              "2 -1.482504 -0.681062 -1.305028  1.594408 -0.333697 -0.182309  0.473522   \n",
              "3 -1.482504 -0.681062 -0.984094 -1.506239  2.996733 -2.057499  0.473522   \n",
              "4  1.837121  1.468294  0.828702 -1.506239 -0.333697  1.692882 -2.185510   \n",
              "\n",
              "         7         8         9   ...        12        13        14        15  \\\n",
              "0 -0.814412 -0.396231  0.520382  ... -1.201703 -0.598282  0.323000  1.372553   \n",
              "1  0.221396 -0.396231  0.520382  ... -0.660932 -0.598282  0.323000  1.372553   \n",
              "2  1.257204 -2.389123  0.520382  ... -0.248915 -0.598282  0.323000 -0.066111   \n",
              "3 -0.814412 -0.396231  0.520382  ... -0.223164 -0.598282 -3.095971  1.372553   \n",
              "4  0.221396 -0.396231  0.520382  ...  0.343358  1.671453  0.323000  1.372553   \n",
              "\n",
              "         16        17        18        19        20        21  \n",
              "0 -0.057893  0.198222  0.291037 -1.581436 -1.270882 -0.671172  \n",
              "1 -2.136900  0.198222  0.291037 -1.324631 -0.865448  0.437721  \n",
              "2  2.021114  1.170896  0.291037  0.141640 -0.900641  0.437721  \n",
              "3 -0.057893 -0.420752  0.291037 -0.015756 -1.268066  0.437721  \n",
              "4 -2.136900 -1.039726  0.291037 -0.015756  1.719197  1.546614  \n",
              "\n",
              "[5 rows x 22 columns]"
            ],
            "text/html": [
              "\n",
              "  <div id=\"df-d143ecb3-bafc-4ef8-9499-4db4fbfa44b0\">\n",
              "    <div class=\"colab-df-container\">\n",
              "      <div>\n",
              "<style scoped>\n",
              "    .dataframe tbody tr th:only-of-type {\n",
              "        vertical-align: middle;\n",
              "    }\n",
              "\n",
              "    .dataframe tbody tr th {\n",
              "        vertical-align: top;\n",
              "    }\n",
              "\n",
              "    .dataframe thead th {\n",
              "        text-align: right;\n",
              "    }\n",
              "</style>\n",
              "<table border=\"1\" class=\"dataframe\">\n",
              "  <thead>\n",
              "    <tr style=\"text-align: right;\">\n",
              "      <th></th>\n",
              "      <th>0</th>\n",
              "      <th>1</th>\n",
              "      <th>2</th>\n",
              "      <th>3</th>\n",
              "      <th>4</th>\n",
              "      <th>5</th>\n",
              "      <th>6</th>\n",
              "      <th>7</th>\n",
              "      <th>8</th>\n",
              "      <th>9</th>\n",
              "      <th>...</th>\n",
              "      <th>12</th>\n",
              "      <th>13</th>\n",
              "      <th>14</th>\n",
              "      <th>15</th>\n",
              "      <th>16</th>\n",
              "      <th>17</th>\n",
              "      <th>18</th>\n",
              "      <th>19</th>\n",
              "      <th>20</th>\n",
              "      <th>21</th>\n",
              "    </tr>\n",
              "  </thead>\n",
              "  <tbody>\n",
              "    <tr>\n",
              "      <th>0</th>\n",
              "      <td>0.421226</td>\n",
              "      <td>1.468294</td>\n",
              "      <td>1.215987</td>\n",
              "      <td>0.044084</td>\n",
              "      <td>-0.333697</td>\n",
              "      <td>1.692882</td>\n",
              "      <td>0.473522</td>\n",
              "      <td>-0.814412</td>\n",
              "      <td>-0.396231</td>\n",
              "      <td>0.520382</td>\n",
              "      <td>...</td>\n",
              "      <td>-1.201703</td>\n",
              "      <td>-0.598282</td>\n",
              "      <td>0.323000</td>\n",
              "      <td>1.372553</td>\n",
              "      <td>-0.057893</td>\n",
              "      <td>0.198222</td>\n",
              "      <td>0.291037</td>\n",
              "      <td>-1.581436</td>\n",
              "      <td>-1.270882</td>\n",
              "      <td>-0.671172</td>\n",
              "    </tr>\n",
              "    <tr>\n",
              "      <th>1</th>\n",
              "      <td>0.778956</td>\n",
              "      <td>-0.681062</td>\n",
              "      <td>-0.896524</td>\n",
              "      <td>0.044084</td>\n",
              "      <td>-0.333697</td>\n",
              "      <td>1.692882</td>\n",
              "      <td>0.473522</td>\n",
              "      <td>0.221396</td>\n",
              "      <td>-0.396231</td>\n",
              "      <td>0.520382</td>\n",
              "      <td>...</td>\n",
              "      <td>-0.660932</td>\n",
              "      <td>-0.598282</td>\n",
              "      <td>0.323000</td>\n",
              "      <td>1.372553</td>\n",
              "      <td>-2.136900</td>\n",
              "      <td>0.198222</td>\n",
              "      <td>0.291037</td>\n",
              "      <td>-1.324631</td>\n",
              "      <td>-0.865448</td>\n",
              "      <td>0.437721</td>\n",
              "    </tr>\n",
              "    <tr>\n",
              "      <th>2</th>\n",
              "      <td>-1.482504</td>\n",
              "      <td>-0.681062</td>\n",
              "      <td>-1.305028</td>\n",
              "      <td>1.594408</td>\n",
              "      <td>-0.333697</td>\n",
              "      <td>-0.182309</td>\n",
              "      <td>0.473522</td>\n",
              "      <td>1.257204</td>\n",
              "      <td>-2.389123</td>\n",
              "      <td>0.520382</td>\n",
              "      <td>...</td>\n",
              "      <td>-0.248915</td>\n",
              "      <td>-0.598282</td>\n",
              "      <td>0.323000</td>\n",
              "      <td>-0.066111</td>\n",
              "      <td>2.021114</td>\n",
              "      <td>1.170896</td>\n",
              "      <td>0.291037</td>\n",
              "      <td>0.141640</td>\n",
              "      <td>-0.900641</td>\n",
              "      <td>0.437721</td>\n",
              "    </tr>\n",
              "    <tr>\n",
              "      <th>3</th>\n",
              "      <td>-1.482504</td>\n",
              "      <td>-0.681062</td>\n",
              "      <td>-0.984094</td>\n",
              "      <td>-1.506239</td>\n",
              "      <td>2.996733</td>\n",
              "      <td>-2.057499</td>\n",
              "      <td>0.473522</td>\n",
              "      <td>-0.814412</td>\n",
              "      <td>-0.396231</td>\n",
              "      <td>0.520382</td>\n",
              "      <td>...</td>\n",
              "      <td>-0.223164</td>\n",
              "      <td>-0.598282</td>\n",
              "      <td>-3.095971</td>\n",
              "      <td>1.372553</td>\n",
              "      <td>-0.057893</td>\n",
              "      <td>-0.420752</td>\n",
              "      <td>0.291037</td>\n",
              "      <td>-0.015756</td>\n",
              "      <td>-1.268066</td>\n",
              "      <td>0.437721</td>\n",
              "    </tr>\n",
              "    <tr>\n",
              "      <th>4</th>\n",
              "      <td>1.837121</td>\n",
              "      <td>1.468294</td>\n",
              "      <td>0.828702</td>\n",
              "      <td>-1.506239</td>\n",
              "      <td>-0.333697</td>\n",
              "      <td>1.692882</td>\n",
              "      <td>-2.185510</td>\n",
              "      <td>0.221396</td>\n",
              "      <td>-0.396231</td>\n",
              "      <td>0.520382</td>\n",
              "      <td>...</td>\n",
              "      <td>0.343358</td>\n",
              "      <td>1.671453</td>\n",
              "      <td>0.323000</td>\n",
              "      <td>1.372553</td>\n",
              "      <td>-2.136900</td>\n",
              "      <td>-1.039726</td>\n",
              "      <td>0.291037</td>\n",
              "      <td>-0.015756</td>\n",
              "      <td>1.719197</td>\n",
              "      <td>1.546614</td>\n",
              "    </tr>\n",
              "  </tbody>\n",
              "</table>\n",
              "<p>5 rows × 22 columns</p>\n",
              "</div>\n",
              "      <button class=\"colab-df-convert\" onclick=\"convertToInteractive('df-d143ecb3-bafc-4ef8-9499-4db4fbfa44b0')\"\n",
              "              title=\"Convert this dataframe to an interactive table.\"\n",
              "              style=\"display:none;\">\n",
              "        \n",
              "  <svg xmlns=\"http://www.w3.org/2000/svg\" height=\"24px\"viewBox=\"0 0 24 24\"\n",
              "       width=\"24px\">\n",
              "    <path d=\"M0 0h24v24H0V0z\" fill=\"none\"/>\n",
              "    <path d=\"M18.56 5.44l.94 2.06.94-2.06 2.06-.94-2.06-.94-.94-2.06-.94 2.06-2.06.94zm-11 1L8.5 8.5l.94-2.06 2.06-.94-2.06-.94L8.5 2.5l-.94 2.06-2.06.94zm10 10l.94 2.06.94-2.06 2.06-.94-2.06-.94-.94-2.06-.94 2.06-2.06.94z\"/><path d=\"M17.41 7.96l-1.37-1.37c-.4-.4-.92-.59-1.43-.59-.52 0-1.04.2-1.43.59L10.3 9.45l-7.72 7.72c-.78.78-.78 2.05 0 2.83L4 21.41c.39.39.9.59 1.41.59.51 0 1.02-.2 1.41-.59l7.78-7.78 2.81-2.81c.8-.78.8-2.07 0-2.86zM5.41 20L4 18.59l7.72-7.72 1.47 1.35L5.41 20z\"/>\n",
              "  </svg>\n",
              "      </button>\n",
              "      \n",
              "  <style>\n",
              "    .colab-df-container {\n",
              "      display:flex;\n",
              "      flex-wrap:wrap;\n",
              "      gap: 12px;\n",
              "    }\n",
              "\n",
              "    .colab-df-convert {\n",
              "      background-color: #E8F0FE;\n",
              "      border: none;\n",
              "      border-radius: 50%;\n",
              "      cursor: pointer;\n",
              "      display: none;\n",
              "      fill: #1967D2;\n",
              "      height: 32px;\n",
              "      padding: 0 0 0 0;\n",
              "      width: 32px;\n",
              "    }\n",
              "\n",
              "    .colab-df-convert:hover {\n",
              "      background-color: #E2EBFA;\n",
              "      box-shadow: 0px 1px 2px rgba(60, 64, 67, 0.3), 0px 1px 3px 1px rgba(60, 64, 67, 0.15);\n",
              "      fill: #174EA6;\n",
              "    }\n",
              "\n",
              "    [theme=dark] .colab-df-convert {\n",
              "      background-color: #3B4455;\n",
              "      fill: #D2E3FC;\n",
              "    }\n",
              "\n",
              "    [theme=dark] .colab-df-convert:hover {\n",
              "      background-color: #434B5C;\n",
              "      box-shadow: 0px 1px 3px 1px rgba(0, 0, 0, 0.15);\n",
              "      filter: drop-shadow(0px 1px 2px rgba(0, 0, 0, 0.3));\n",
              "      fill: #FFFFFF;\n",
              "    }\n",
              "  </style>\n",
              "\n",
              "      <script>\n",
              "        const buttonEl =\n",
              "          document.querySelector('#df-d143ecb3-bafc-4ef8-9499-4db4fbfa44b0 button.colab-df-convert');\n",
              "        buttonEl.style.display =\n",
              "          google.colab.kernel.accessAllowed ? 'block' : 'none';\n",
              "\n",
              "        async function convertToInteractive(key) {\n",
              "          const element = document.querySelector('#df-d143ecb3-bafc-4ef8-9499-4db4fbfa44b0');\n",
              "          const dataTable =\n",
              "            await google.colab.kernel.invokeFunction('convertToInteractive',\n",
              "                                                     [key], {});\n",
              "          if (!dataTable) return;\n",
              "\n",
              "          const docLinkHtml = 'Like what you see? Visit the ' +\n",
              "            '<a target=\"_blank\" href=https://colab.research.google.com/notebooks/data_table.ipynb>data table notebook</a>'\n",
              "            + ' to learn more about interactive tables.';\n",
              "          element.innerHTML = '';\n",
              "          dataTable['output_type'] = 'display_data';\n",
              "          await google.colab.output.renderOutput(dataTable, element);\n",
              "          const docLink = document.createElement('div');\n",
              "          docLink.innerHTML = docLinkHtml;\n",
              "          element.appendChild(docLink);\n",
              "        }\n",
              "      </script>\n",
              "    </div>\n",
              "  </div>\n",
              "  "
            ]
          },
          "metadata": {},
          "execution_count": 46
        }
      ]
    },
    {
      "cell_type": "code",
      "source": [
        "def run_baseline_model(model, dataframe, target):\n",
        "    '''\n",
        "    Performs model training and tests using ROC-AUC \n",
        "    returns AUC score\n",
        "    '''\n",
        "    X_train, X_val, y_train, y_val = train_test_split(dataframe, target, test_size=0.3, random_state= 0)\n",
        "    model.fit(X_train, y_train)\n",
        "    y_pred = model.predict(X_val)\n",
        "    auc = roc_auc_score(y_val, y_pred)\n",
        "    Classification_Report = classification_report(y_val,y_pred) \n",
        "    print('\\n Model - \\n {} \\n AUC Score = {} %.2f'.format(str(model),(auc*100)))\n",
        "    print(\" Classification_Report\", Classification_Report)\n",
        "    print('===='*20)\n",
        "    return None\n",
        "\n",
        "models = [LogisticRegression,DecisionTreeClassifier, RandomForestClassifier,XGBClassifier,GradientBoostingClassifier]\n",
        "\n",
        "for model in models:\n",
        "    # run model\n",
        "    model = model()\n",
        "    run_baseline_model(model, train_df, y)\n",
        "    "
      ],
      "metadata": {
        "colab": {
          "base_uri": "https://localhost:8080/"
        },
        "id": "JhqmCiZH84Mc",
        "outputId": "07ab78a9-aef6-4d99-edb9-e8ff45f63b8f"
      },
      "execution_count": null,
      "outputs": [
        {
          "output_type": "stream",
          "name": "stdout",
          "text": [
            "\n",
            " Model - \n",
            " LogisticRegression() \n",
            " AUC Score = 50.0 %.2f\n",
            " Classification_Report               precision    recall  f1-score   support\n",
            "\n",
            "         0.0       0.74      1.00      0.85     29268\n",
            "         1.0       0.00      0.00      0.00     10464\n",
            "\n",
            "    accuracy                           0.74     39732\n",
            "   macro avg       0.37      0.50      0.42     39732\n",
            "weighted avg       0.54      0.74      0.62     39732\n",
            "\n",
            "================================================================================\n",
            "\n",
            " Model - \n",
            " DecisionTreeClassifier() \n",
            " AUC Score = 49.74122017596322 %.2f\n",
            " Classification_Report               precision    recall  f1-score   support\n",
            "\n",
            "         0.0       0.74      0.71      0.72     29268\n",
            "         1.0       0.26      0.28      0.27     10464\n",
            "\n",
            "    accuracy                           0.60     39732\n",
            "   macro avg       0.50      0.50      0.50     39732\n",
            "weighted avg       0.61      0.60      0.60     39732\n",
            "\n",
            "================================================================================\n",
            "\n",
            " Model - \n",
            " RandomForestClassifier() \n",
            " AUC Score = 50.037303555375004 %.2f\n",
            " Classification_Report               precision    recall  f1-score   support\n",
            "\n",
            "         0.0       0.74      1.00      0.85     29268\n",
            "         1.0       0.29      0.01      0.01     10464\n",
            "\n",
            "    accuracy                           0.73     39732\n",
            "   macro avg       0.52      0.50      0.43     39732\n",
            "weighted avg       0.62      0.73      0.63     39732\n",
            "\n",
            "================================================================================\n",
            "\n",
            " Model - \n",
            " XGBClassifier() \n",
            " AUC Score = 50.0 %.2f\n",
            " Classification_Report               precision    recall  f1-score   support\n",
            "\n",
            "         0.0       0.74      1.00      0.85     29268\n",
            "         1.0       0.00      0.00      0.00     10464\n",
            "\n",
            "    accuracy                           0.74     39732\n",
            "   macro avg       0.37      0.50      0.42     39732\n",
            "weighted avg       0.54      0.74      0.62     39732\n",
            "\n",
            "================================================================================\n",
            "\n",
            " Model - \n",
            " GradientBoostingClassifier() \n",
            " AUC Score = 50.00306993704493 %.2f\n",
            " Classification_Report               precision    recall  f1-score   support\n",
            "\n",
            "         0.0       0.74      1.00      0.85     29268\n",
            "         1.0       0.50      0.00      0.00     10464\n",
            "\n",
            "    accuracy                           0.74     39732\n",
            "   macro avg       0.62      0.50      0.42     39732\n",
            "weighted avg       0.67      0.74      0.62     39732\n",
            "\n",
            "================================================================================\n"
          ]
        }
      ]
    },
    {
      "cell_type": "markdown",
      "source": [
        "## Hyperparameter tuning for Decision Tree model"
      ],
      "metadata": {
        "id": "QNPihGUfYu2n"
      }
    },
    {
      "cell_type": "code",
      "source": [
        "# Splitting the dataset and defining the model\n",
        "\n",
        "X_train, X_test, y_train, y_test=train_test_split(train_df, y, test_size=0.20, random_state=1)\n",
        "\n",
        "dtree=DecisionTreeClassifier()"
      ],
      "metadata": {
        "id": "9xz0sKFU-IDj"
      },
      "execution_count": null,
      "outputs": []
    },
    {
      "cell_type": "code",
      "source": [
        "#Using max_depth, criterion will suffice for DT Models, rest all will remain constant \n",
        "\n",
        "parameters = {'max_depth' : (3,5,7,9,10,15,20,25)\n",
        "              , 'criterion' : ('gini', 'entropy')\n",
        "              , 'max_features' : ('auto', 'sqrt', 'log2')\n",
        "              , 'min_samples_split' : (2,4,6)\n",
        "             }"
      ],
      "metadata": {
        "id": "Mr-hAKxvJSm8"
      },
      "execution_count": null,
      "outputs": []
    },
    {
      "cell_type": "code",
      "source": [
        "# Using RandomSearch CV\n",
        "\n",
        "DT_grid  = RandomizedSearchCV(DecisionTreeClassifier(), param_distributions = parameters, cv = 5, verbose = True)"
      ],
      "metadata": {
        "id": "mJDr9RXVJbac"
      },
      "execution_count": null,
      "outputs": []
    },
    {
      "cell_type": "code",
      "source": [
        "DT_grid.fit(X_train,y_train)"
      ],
      "metadata": {
        "colab": {
          "base_uri": "https://localhost:8080/"
        },
        "id": "9xl-3f7qJi4h",
        "outputId": "5c52608b-8fa3-48f5-c9bb-aec4c64da745"
      },
      "execution_count": null,
      "outputs": [
        {
          "output_type": "stream",
          "name": "stdout",
          "text": [
            "Fitting 5 folds for each of 10 candidates, totalling 50 fits\n"
          ]
        },
        {
          "output_type": "execute_result",
          "data": {
            "text/plain": [
              "RandomizedSearchCV(cv=5, estimator=DecisionTreeClassifier(),\n",
              "                   param_distributions={'criterion': ('gini', 'entropy'),\n",
              "                                        'max_depth': (3, 5, 7, 9, 10, 15, 20,\n",
              "                                                      25),\n",
              "                                        'max_features': ('auto', 'sqrt',\n",
              "                                                         'log2'),\n",
              "                                        'min_samples_split': (2, 4, 6)},\n",
              "                   verbose=True)"
            ]
          },
          "metadata": {},
          "execution_count": 53
        }
      ]
    },
    {
      "cell_type": "code",
      "source": [
        "DT_grid.best_estimator_"
      ],
      "metadata": {
        "colab": {
          "base_uri": "https://localhost:8080/"
        },
        "id": "XxURK_AXKGrr",
        "outputId": "1fc6c1ab-726d-4bea-de6c-fd70cc2db86a"
      },
      "execution_count": null,
      "outputs": [
        {
          "output_type": "execute_result",
          "data": {
            "text/plain": [
              "DecisionTreeClassifier(criterion='entropy', max_depth=3, max_features='auto',\n",
              "                       min_samples_split=4)"
            ]
          },
          "metadata": {},
          "execution_count": 54
        }
      ]
    },
    {
      "cell_type": "code",
      "source": [
        "DT_Model = DecisionTreeClassifier(ccp_alpha=0.0, class_weight=None, criterion='gini',\n",
        "                       max_depth=3, max_features='auto', max_leaf_nodes=None,\n",
        "                       min_impurity_decrease=0.0, min_samples_leaf=1, min_samples_split=4,\n",
        "                       min_weight_fraction_leaf=0.0, random_state=None, splitter='best')\n"
      ],
      "metadata": {
        "id": "KnJ4dT1BKQgL"
      },
      "execution_count": null,
      "outputs": []
    },
    {
      "cell_type": "code",
      "source": [
        "DT_Model.fit(X_train,y_train)"
      ],
      "metadata": {
        "colab": {
          "base_uri": "https://localhost:8080/"
        },
        "id": "8Dl1DLMoK9tE",
        "outputId": "5e736673-b817-4de2-b192-03a6cfefb994"
      },
      "execution_count": null,
      "outputs": [
        {
          "output_type": "execute_result",
          "data": {
            "text/plain": [
              "DecisionTreeClassifier(max_depth=3, max_features='auto', min_samples_split=4)"
            ]
          },
          "metadata": {},
          "execution_count": 56
        }
      ]
    },
    {
      "cell_type": "code",
      "source": [
        "y_pred=DT_Model.predict(X_test)"
      ],
      "metadata": {
        "id": "JxSTtnRcLHRk"
      },
      "execution_count": null,
      "outputs": []
    },
    {
      "cell_type": "code",
      "source": [
        "Classification_Report_dt=classification_report(y_test, y_pred)\n",
        "print(Classification_Report_dt)"
      ],
      "metadata": {
        "colab": {
          "base_uri": "https://localhost:8080/"
        },
        "id": "y33AXx6sLysA",
        "outputId": "329bbc0f-47b2-45b6-c269-62c1dcd197e5"
      },
      "execution_count": null,
      "outputs": [
        {
          "output_type": "stream",
          "name": "stdout",
          "text": [
            "              precision    recall  f1-score   support\n",
            "\n",
            "         0.0       0.74      1.00      0.85     19479\n",
            "         1.0       0.00      0.00      0.00      7009\n",
            "\n",
            "    accuracy                           0.74     26488\n",
            "   macro avg       0.37      0.50      0.42     26488\n",
            "weighted avg       0.54      0.74      0.62     26488\n",
            "\n"
          ]
        }
      ]
    },
    {
      "cell_type": "code",
      "source": [
        "final_predict=DT_Model.predict(test)"
      ],
      "metadata": {
        "id": "Zt9IGUpsyKkl"
      },
      "execution_count": null,
      "outputs": []
    },
    {
      "cell_type": "code",
      "source": [
        "output_df=pd.DataFrame({'ID':ref_test['ID'], 'Default':final_predict})"
      ],
      "metadata": {
        "id": "eszkybL_124l"
      },
      "execution_count": null,
      "outputs": []
    },
    {
      "cell_type": "code",
      "source": [
        "output_df"
      ],
      "metadata": {
        "colab": {
          "base_uri": "https://localhost:8080/",
          "height": 424
        },
        "id": "QQRwtpGO2hKQ",
        "outputId": "22ad68c1-43b1-4693-f3ae-7c89c514e045"
      },
      "execution_count": null,
      "outputs": [
        {
          "output_type": "execute_result",
          "data": {
            "text/plain": [
              "           ID  Default\n",
              "0      487410      0.0\n",
              "1      533258      0.0\n",
              "2      581926      0.0\n",
              "3      486301      0.0\n",
              "4      580822      0.0\n",
              "...       ...      ...\n",
              "56755  513665      0.0\n",
              "56756  450327      0.0\n",
              "56757  476417      0.0\n",
              "56758  461152      0.0\n",
              "56759  524075      0.0\n",
              "\n",
              "[56760 rows x 2 columns]"
            ],
            "text/html": [
              "\n",
              "  <div id=\"df-61862c21-0484-45c8-a6f5-1cdeafc16f12\">\n",
              "    <div class=\"colab-df-container\">\n",
              "      <div>\n",
              "<style scoped>\n",
              "    .dataframe tbody tr th:only-of-type {\n",
              "        vertical-align: middle;\n",
              "    }\n",
              "\n",
              "    .dataframe tbody tr th {\n",
              "        vertical-align: top;\n",
              "    }\n",
              "\n",
              "    .dataframe thead th {\n",
              "        text-align: right;\n",
              "    }\n",
              "</style>\n",
              "<table border=\"1\" class=\"dataframe\">\n",
              "  <thead>\n",
              "    <tr style=\"text-align: right;\">\n",
              "      <th></th>\n",
              "      <th>ID</th>\n",
              "      <th>Default</th>\n",
              "    </tr>\n",
              "  </thead>\n",
              "  <tbody>\n",
              "    <tr>\n",
              "      <th>0</th>\n",
              "      <td>487410</td>\n",
              "      <td>0.0</td>\n",
              "    </tr>\n",
              "    <tr>\n",
              "      <th>1</th>\n",
              "      <td>533258</td>\n",
              "      <td>0.0</td>\n",
              "    </tr>\n",
              "    <tr>\n",
              "      <th>2</th>\n",
              "      <td>581926</td>\n",
              "      <td>0.0</td>\n",
              "    </tr>\n",
              "    <tr>\n",
              "      <th>3</th>\n",
              "      <td>486301</td>\n",
              "      <td>0.0</td>\n",
              "    </tr>\n",
              "    <tr>\n",
              "      <th>4</th>\n",
              "      <td>580822</td>\n",
              "      <td>0.0</td>\n",
              "    </tr>\n",
              "    <tr>\n",
              "      <th>...</th>\n",
              "      <td>...</td>\n",
              "      <td>...</td>\n",
              "    </tr>\n",
              "    <tr>\n",
              "      <th>56755</th>\n",
              "      <td>513665</td>\n",
              "      <td>0.0</td>\n",
              "    </tr>\n",
              "    <tr>\n",
              "      <th>56756</th>\n",
              "      <td>450327</td>\n",
              "      <td>0.0</td>\n",
              "    </tr>\n",
              "    <tr>\n",
              "      <th>56757</th>\n",
              "      <td>476417</td>\n",
              "      <td>0.0</td>\n",
              "    </tr>\n",
              "    <tr>\n",
              "      <th>56758</th>\n",
              "      <td>461152</td>\n",
              "      <td>0.0</td>\n",
              "    </tr>\n",
              "    <tr>\n",
              "      <th>56759</th>\n",
              "      <td>524075</td>\n",
              "      <td>0.0</td>\n",
              "    </tr>\n",
              "  </tbody>\n",
              "</table>\n",
              "<p>56760 rows × 2 columns</p>\n",
              "</div>\n",
              "      <button class=\"colab-df-convert\" onclick=\"convertToInteractive('df-61862c21-0484-45c8-a6f5-1cdeafc16f12')\"\n",
              "              title=\"Convert this dataframe to an interactive table.\"\n",
              "              style=\"display:none;\">\n",
              "        \n",
              "  <svg xmlns=\"http://www.w3.org/2000/svg\" height=\"24px\"viewBox=\"0 0 24 24\"\n",
              "       width=\"24px\">\n",
              "    <path d=\"M0 0h24v24H0V0z\" fill=\"none\"/>\n",
              "    <path d=\"M18.56 5.44l.94 2.06.94-2.06 2.06-.94-2.06-.94-.94-2.06-.94 2.06-2.06.94zm-11 1L8.5 8.5l.94-2.06 2.06-.94-2.06-.94L8.5 2.5l-.94 2.06-2.06.94zm10 10l.94 2.06.94-2.06 2.06-.94-2.06-.94-.94-2.06-.94 2.06-2.06.94z\"/><path d=\"M17.41 7.96l-1.37-1.37c-.4-.4-.92-.59-1.43-.59-.52 0-1.04.2-1.43.59L10.3 9.45l-7.72 7.72c-.78.78-.78 2.05 0 2.83L4 21.41c.39.39.9.59 1.41.59.51 0 1.02-.2 1.41-.59l7.78-7.78 2.81-2.81c.8-.78.8-2.07 0-2.86zM5.41 20L4 18.59l7.72-7.72 1.47 1.35L5.41 20z\"/>\n",
              "  </svg>\n",
              "      </button>\n",
              "      \n",
              "  <style>\n",
              "    .colab-df-container {\n",
              "      display:flex;\n",
              "      flex-wrap:wrap;\n",
              "      gap: 12px;\n",
              "    }\n",
              "\n",
              "    .colab-df-convert {\n",
              "      background-color: #E8F0FE;\n",
              "      border: none;\n",
              "      border-radius: 50%;\n",
              "      cursor: pointer;\n",
              "      display: none;\n",
              "      fill: #1967D2;\n",
              "      height: 32px;\n",
              "      padding: 0 0 0 0;\n",
              "      width: 32px;\n",
              "    }\n",
              "\n",
              "    .colab-df-convert:hover {\n",
              "      background-color: #E2EBFA;\n",
              "      box-shadow: 0px 1px 2px rgba(60, 64, 67, 0.3), 0px 1px 3px 1px rgba(60, 64, 67, 0.15);\n",
              "      fill: #174EA6;\n",
              "    }\n",
              "\n",
              "    [theme=dark] .colab-df-convert {\n",
              "      background-color: #3B4455;\n",
              "      fill: #D2E3FC;\n",
              "    }\n",
              "\n",
              "    [theme=dark] .colab-df-convert:hover {\n",
              "      background-color: #434B5C;\n",
              "      box-shadow: 0px 1px 3px 1px rgba(0, 0, 0, 0.15);\n",
              "      filter: drop-shadow(0px 1px 2px rgba(0, 0, 0, 0.3));\n",
              "      fill: #FFFFFF;\n",
              "    }\n",
              "  </style>\n",
              "\n",
              "      <script>\n",
              "        const buttonEl =\n",
              "          document.querySelector('#df-61862c21-0484-45c8-a6f5-1cdeafc16f12 button.colab-df-convert');\n",
              "        buttonEl.style.display =\n",
              "          google.colab.kernel.accessAllowed ? 'block' : 'none';\n",
              "\n",
              "        async function convertToInteractive(key) {\n",
              "          const element = document.querySelector('#df-61862c21-0484-45c8-a6f5-1cdeafc16f12');\n",
              "          const dataTable =\n",
              "            await google.colab.kernel.invokeFunction('convertToInteractive',\n",
              "                                                     [key], {});\n",
              "          if (!dataTable) return;\n",
              "\n",
              "          const docLinkHtml = 'Like what you see? Visit the ' +\n",
              "            '<a target=\"_blank\" href=https://colab.research.google.com/notebooks/data_table.ipynb>data table notebook</a>'\n",
              "            + ' to learn more about interactive tables.';\n",
              "          element.innerHTML = '';\n",
              "          dataTable['output_type'] = 'display_data';\n",
              "          await google.colab.output.renderOutput(dataTable, element);\n",
              "          const docLink = document.createElement('div');\n",
              "          docLink.innerHTML = docLinkHtml;\n",
              "          element.appendChild(docLink);\n",
              "        }\n",
              "      </script>\n",
              "    </div>\n",
              "  </div>\n",
              "  "
            ]
          },
          "metadata": {},
          "execution_count": 62
        }
      ]
    },
    {
      "cell_type": "code",
      "source": [
        "#final_predict_dtree_best=dtree_best.predict(test)"
      ],
      "metadata": {
        "id": "e5SKeEl3Im5j"
      },
      "execution_count": null,
      "outputs": []
    },
    {
      "cell_type": "code",
      "source": [
        "#output_df=pd.DataFrame({'ID':ref_test['ID'], 'Default':final_predict})"
      ],
      "metadata": {
        "id": "XA4B5nraJMml"
      },
      "execution_count": null,
      "outputs": []
    },
    {
      "cell_type": "code",
      "source": [
        "output_df.to_csv('Submission_tvs_8.csv',index=False)"
      ],
      "metadata": {
        "id": "BaQT4u4l6z7F"
      },
      "execution_count": null,
      "outputs": []
    },
    {
      "cell_type": "markdown",
      "source": [
        "+--------------------------------------------------------------------------------------------------------------------------------------------------------------------------------------------------------------------------------------------------------------------------------------------------------------------------------------------------------------------------------------------------------------------------------------------------------------------------------------------------"
      ],
      "metadata": {
        "id": "Gchu9xO37GYl"
      }
    }
  ]
}